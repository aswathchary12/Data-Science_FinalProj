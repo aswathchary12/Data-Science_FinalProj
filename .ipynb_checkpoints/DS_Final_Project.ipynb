{
 "cells": [
  {
   "cell_type": "markdown",
   "metadata": {},
   "source": [
    "# Credit Card Fraud Detection <br>\n",
    "The datasets contains transactions made by credit cards in September 2013 by european cardholders. This dataset presents transactions that occurred in two days, where we have 492 frauds out of 284,807 transactions. The dataset is highly unbalanced, the positive class (frauds) account for 0.172% of all transactions. I decided to proceed to an undersampling strategy to re-balance the class.\n",
    "\n",
    "It contains only numerical input variables which are the result of a PCA transformation. Unfortunately, due to confidentiality issues, details about the original features and more background information is not available."
   ]
  },
  {
   "cell_type": "code",
   "execution_count": 8,
   "metadata": {},
   "outputs": [],
   "source": [
    "#Packages import\n",
    "import pandas as pd\n",
    "import numpy as np\n",
    "import matplotlib.pyplot as plt\n",
    "import seaborn as sns\n",
    "import warnings\n",
    "warnings.filterwarnings(\"ignore\")"
   ]
  },
  {
   "cell_type": "code",
   "execution_count": 9,
   "metadata": {},
   "outputs": [
    {
     "name": "stdout",
     "output_type": "stream",
     "text": [
      "Total number of records: 284807\n",
      "Total number of columns: 31\n"
     ]
    },
    {
     "data": {
      "text/html": [
       "<div>\n",
       "<style scoped>\n",
       "    .dataframe tbody tr th:only-of-type {\n",
       "        vertical-align: middle;\n",
       "    }\n",
       "\n",
       "    .dataframe tbody tr th {\n",
       "        vertical-align: top;\n",
       "    }\n",
       "\n",
       "    .dataframe thead th {\n",
       "        text-align: right;\n",
       "    }\n",
       "</style>\n",
       "<table border=\"1\" class=\"dataframe\">\n",
       "  <thead>\n",
       "    <tr style=\"text-align: right;\">\n",
       "      <th></th>\n",
       "      <th>Time</th>\n",
       "      <th>V1</th>\n",
       "      <th>V2</th>\n",
       "      <th>V3</th>\n",
       "      <th>V4</th>\n",
       "      <th>V5</th>\n",
       "      <th>V6</th>\n",
       "      <th>V7</th>\n",
       "      <th>V8</th>\n",
       "      <th>V9</th>\n",
       "      <th>...</th>\n",
       "      <th>V21</th>\n",
       "      <th>V22</th>\n",
       "      <th>V23</th>\n",
       "      <th>V24</th>\n",
       "      <th>V25</th>\n",
       "      <th>V26</th>\n",
       "      <th>V27</th>\n",
       "      <th>V28</th>\n",
       "      <th>Amount</th>\n",
       "      <th>Class</th>\n",
       "    </tr>\n",
       "  </thead>\n",
       "  <tbody>\n",
       "    <tr>\n",
       "      <th>0</th>\n",
       "      <td>0.00000</td>\n",
       "      <td>-1.35981</td>\n",
       "      <td>-0.07278</td>\n",
       "      <td>2.53635</td>\n",
       "      <td>1.37816</td>\n",
       "      <td>-0.33832</td>\n",
       "      <td>0.46239</td>\n",
       "      <td>0.23960</td>\n",
       "      <td>0.09870</td>\n",
       "      <td>0.36379</td>\n",
       "      <td>...</td>\n",
       "      <td>-0.01831</td>\n",
       "      <td>0.27784</td>\n",
       "      <td>-0.11047</td>\n",
       "      <td>0.06693</td>\n",
       "      <td>0.12854</td>\n",
       "      <td>-0.18911</td>\n",
       "      <td>0.13356</td>\n",
       "      <td>-0.02105</td>\n",
       "      <td>149.62000</td>\n",
       "      <td>0</td>\n",
       "    </tr>\n",
       "    <tr>\n",
       "      <th>1</th>\n",
       "      <td>0.00000</td>\n",
       "      <td>1.19186</td>\n",
       "      <td>0.26615</td>\n",
       "      <td>0.16648</td>\n",
       "      <td>0.44815</td>\n",
       "      <td>0.06002</td>\n",
       "      <td>-0.08236</td>\n",
       "      <td>-0.07880</td>\n",
       "      <td>0.08510</td>\n",
       "      <td>-0.25543</td>\n",
       "      <td>...</td>\n",
       "      <td>-0.22578</td>\n",
       "      <td>-0.63867</td>\n",
       "      <td>0.10129</td>\n",
       "      <td>-0.33985</td>\n",
       "      <td>0.16717</td>\n",
       "      <td>0.12589</td>\n",
       "      <td>-0.00898</td>\n",
       "      <td>0.01472</td>\n",
       "      <td>2.69000</td>\n",
       "      <td>0</td>\n",
       "    </tr>\n",
       "    <tr>\n",
       "      <th>2</th>\n",
       "      <td>1.00000</td>\n",
       "      <td>-1.35835</td>\n",
       "      <td>-1.34016</td>\n",
       "      <td>1.77321</td>\n",
       "      <td>0.37978</td>\n",
       "      <td>-0.50320</td>\n",
       "      <td>1.80050</td>\n",
       "      <td>0.79146</td>\n",
       "      <td>0.24768</td>\n",
       "      <td>-1.51465</td>\n",
       "      <td>...</td>\n",
       "      <td>0.24800</td>\n",
       "      <td>0.77168</td>\n",
       "      <td>0.90941</td>\n",
       "      <td>-0.68928</td>\n",
       "      <td>-0.32764</td>\n",
       "      <td>-0.13910</td>\n",
       "      <td>-0.05535</td>\n",
       "      <td>-0.05975</td>\n",
       "      <td>378.66000</td>\n",
       "      <td>0</td>\n",
       "    </tr>\n",
       "    <tr>\n",
       "      <th>3</th>\n",
       "      <td>1.00000</td>\n",
       "      <td>-0.96627</td>\n",
       "      <td>-0.18523</td>\n",
       "      <td>1.79299</td>\n",
       "      <td>-0.86329</td>\n",
       "      <td>-0.01031</td>\n",
       "      <td>1.24720</td>\n",
       "      <td>0.23761</td>\n",
       "      <td>0.37744</td>\n",
       "      <td>-1.38702</td>\n",
       "      <td>...</td>\n",
       "      <td>-0.10830</td>\n",
       "      <td>0.00527</td>\n",
       "      <td>-0.19032</td>\n",
       "      <td>-1.17558</td>\n",
       "      <td>0.64738</td>\n",
       "      <td>-0.22193</td>\n",
       "      <td>0.06272</td>\n",
       "      <td>0.06146</td>\n",
       "      <td>123.50000</td>\n",
       "      <td>0</td>\n",
       "    </tr>\n",
       "    <tr>\n",
       "      <th>4</th>\n",
       "      <td>2.00000</td>\n",
       "      <td>-1.15823</td>\n",
       "      <td>0.87774</td>\n",
       "      <td>1.54872</td>\n",
       "      <td>0.40303</td>\n",
       "      <td>-0.40719</td>\n",
       "      <td>0.09592</td>\n",
       "      <td>0.59294</td>\n",
       "      <td>-0.27053</td>\n",
       "      <td>0.81774</td>\n",
       "      <td>...</td>\n",
       "      <td>-0.00943</td>\n",
       "      <td>0.79828</td>\n",
       "      <td>-0.13746</td>\n",
       "      <td>0.14127</td>\n",
       "      <td>-0.20601</td>\n",
       "      <td>0.50229</td>\n",
       "      <td>0.21942</td>\n",
       "      <td>0.21515</td>\n",
       "      <td>69.99000</td>\n",
       "      <td>0</td>\n",
       "    </tr>\n",
       "    <tr>\n",
       "      <th>5</th>\n",
       "      <td>2.00000</td>\n",
       "      <td>-0.42597</td>\n",
       "      <td>0.96052</td>\n",
       "      <td>1.14111</td>\n",
       "      <td>-0.16825</td>\n",
       "      <td>0.42099</td>\n",
       "      <td>-0.02973</td>\n",
       "      <td>0.47620</td>\n",
       "      <td>0.26031</td>\n",
       "      <td>-0.56867</td>\n",
       "      <td>...</td>\n",
       "      <td>-0.20825</td>\n",
       "      <td>-0.55982</td>\n",
       "      <td>-0.02640</td>\n",
       "      <td>-0.37143</td>\n",
       "      <td>-0.23279</td>\n",
       "      <td>0.10591</td>\n",
       "      <td>0.25384</td>\n",
       "      <td>0.08108</td>\n",
       "      <td>3.67000</td>\n",
       "      <td>0</td>\n",
       "    </tr>\n",
       "    <tr>\n",
       "      <th>6</th>\n",
       "      <td>4.00000</td>\n",
       "      <td>1.22966</td>\n",
       "      <td>0.14100</td>\n",
       "      <td>0.04537</td>\n",
       "      <td>1.20261</td>\n",
       "      <td>0.19188</td>\n",
       "      <td>0.27271</td>\n",
       "      <td>-0.00516</td>\n",
       "      <td>0.08121</td>\n",
       "      <td>0.46496</td>\n",
       "      <td>...</td>\n",
       "      <td>-0.16772</td>\n",
       "      <td>-0.27071</td>\n",
       "      <td>-0.15410</td>\n",
       "      <td>-0.78006</td>\n",
       "      <td>0.75014</td>\n",
       "      <td>-0.25724</td>\n",
       "      <td>0.03451</td>\n",
       "      <td>0.00517</td>\n",
       "      <td>4.99000</td>\n",
       "      <td>0</td>\n",
       "    </tr>\n",
       "    <tr>\n",
       "      <th>7</th>\n",
       "      <td>7.00000</td>\n",
       "      <td>-0.64427</td>\n",
       "      <td>1.41796</td>\n",
       "      <td>1.07438</td>\n",
       "      <td>-0.49220</td>\n",
       "      <td>0.94893</td>\n",
       "      <td>0.42812</td>\n",
       "      <td>1.12063</td>\n",
       "      <td>-3.80786</td>\n",
       "      <td>0.61537</td>\n",
       "      <td>...</td>\n",
       "      <td>1.94347</td>\n",
       "      <td>-1.01545</td>\n",
       "      <td>0.05750</td>\n",
       "      <td>-0.64971</td>\n",
       "      <td>-0.41527</td>\n",
       "      <td>-0.05163</td>\n",
       "      <td>-1.20692</td>\n",
       "      <td>-1.08534</td>\n",
       "      <td>40.80000</td>\n",
       "      <td>0</td>\n",
       "    </tr>\n",
       "    <tr>\n",
       "      <th>8</th>\n",
       "      <td>7.00000</td>\n",
       "      <td>-0.89429</td>\n",
       "      <td>0.28616</td>\n",
       "      <td>-0.11319</td>\n",
       "      <td>-0.27153</td>\n",
       "      <td>2.66960</td>\n",
       "      <td>3.72182</td>\n",
       "      <td>0.37015</td>\n",
       "      <td>0.85108</td>\n",
       "      <td>-0.39205</td>\n",
       "      <td>...</td>\n",
       "      <td>-0.07343</td>\n",
       "      <td>-0.26809</td>\n",
       "      <td>-0.20423</td>\n",
       "      <td>1.01159</td>\n",
       "      <td>0.37320</td>\n",
       "      <td>-0.38416</td>\n",
       "      <td>0.01175</td>\n",
       "      <td>0.14240</td>\n",
       "      <td>93.20000</td>\n",
       "      <td>0</td>\n",
       "    </tr>\n",
       "    <tr>\n",
       "      <th>9</th>\n",
       "      <td>9.00000</td>\n",
       "      <td>-0.33826</td>\n",
       "      <td>1.11959</td>\n",
       "      <td>1.04437</td>\n",
       "      <td>-0.22219</td>\n",
       "      <td>0.49936</td>\n",
       "      <td>-0.24676</td>\n",
       "      <td>0.65158</td>\n",
       "      <td>0.06954</td>\n",
       "      <td>-0.73673</td>\n",
       "      <td>...</td>\n",
       "      <td>-0.24691</td>\n",
       "      <td>-0.63375</td>\n",
       "      <td>-0.12079</td>\n",
       "      <td>-0.38505</td>\n",
       "      <td>-0.06973</td>\n",
       "      <td>0.09420</td>\n",
       "      <td>0.24622</td>\n",
       "      <td>0.08308</td>\n",
       "      <td>3.68000</td>\n",
       "      <td>0</td>\n",
       "    </tr>\n",
       "  </tbody>\n",
       "</table>\n",
       "<p>10 rows × 31 columns</p>\n",
       "</div>"
      ],
      "text/plain": [
       "     Time       V1       V2       V3       V4       V5       V6       V7  \\\n",
       "0 0.00000 -1.35981 -0.07278  2.53635  1.37816 -0.33832  0.46239  0.23960   \n",
       "1 0.00000  1.19186  0.26615  0.16648  0.44815  0.06002 -0.08236 -0.07880   \n",
       "2 1.00000 -1.35835 -1.34016  1.77321  0.37978 -0.50320  1.80050  0.79146   \n",
       "3 1.00000 -0.96627 -0.18523  1.79299 -0.86329 -0.01031  1.24720  0.23761   \n",
       "4 2.00000 -1.15823  0.87774  1.54872  0.40303 -0.40719  0.09592  0.59294   \n",
       "5 2.00000 -0.42597  0.96052  1.14111 -0.16825  0.42099 -0.02973  0.47620   \n",
       "6 4.00000  1.22966  0.14100  0.04537  1.20261  0.19188  0.27271 -0.00516   \n",
       "7 7.00000 -0.64427  1.41796  1.07438 -0.49220  0.94893  0.42812  1.12063   \n",
       "8 7.00000 -0.89429  0.28616 -0.11319 -0.27153  2.66960  3.72182  0.37015   \n",
       "9 9.00000 -0.33826  1.11959  1.04437 -0.22219  0.49936 -0.24676  0.65158   \n",
       "\n",
       "        V8       V9  ...      V21      V22      V23      V24      V25  \\\n",
       "0  0.09870  0.36379  ... -0.01831  0.27784 -0.11047  0.06693  0.12854   \n",
       "1  0.08510 -0.25543  ... -0.22578 -0.63867  0.10129 -0.33985  0.16717   \n",
       "2  0.24768 -1.51465  ...  0.24800  0.77168  0.90941 -0.68928 -0.32764   \n",
       "3  0.37744 -1.38702  ... -0.10830  0.00527 -0.19032 -1.17558  0.64738   \n",
       "4 -0.27053  0.81774  ... -0.00943  0.79828 -0.13746  0.14127 -0.20601   \n",
       "5  0.26031 -0.56867  ... -0.20825 -0.55982 -0.02640 -0.37143 -0.23279   \n",
       "6  0.08121  0.46496  ... -0.16772 -0.27071 -0.15410 -0.78006  0.75014   \n",
       "7 -3.80786  0.61537  ...  1.94347 -1.01545  0.05750 -0.64971 -0.41527   \n",
       "8  0.85108 -0.39205  ... -0.07343 -0.26809 -0.20423  1.01159  0.37320   \n",
       "9  0.06954 -0.73673  ... -0.24691 -0.63375 -0.12079 -0.38505 -0.06973   \n",
       "\n",
       "       V26      V27      V28    Amount  Class  \n",
       "0 -0.18911  0.13356 -0.02105 149.62000      0  \n",
       "1  0.12589 -0.00898  0.01472   2.69000      0  \n",
       "2 -0.13910 -0.05535 -0.05975 378.66000      0  \n",
       "3 -0.22193  0.06272  0.06146 123.50000      0  \n",
       "4  0.50229  0.21942  0.21515  69.99000      0  \n",
       "5  0.10591  0.25384  0.08108   3.67000      0  \n",
       "6 -0.25724  0.03451  0.00517   4.99000      0  \n",
       "7 -0.05163 -1.20692 -1.08534  40.80000      0  \n",
       "8 -0.38416  0.01175  0.14240  93.20000      0  \n",
       "9  0.09420  0.24622  0.08308   3.68000      0  \n",
       "\n",
       "[10 rows x 31 columns]"
      ]
     },
     "execution_count": 9,
     "metadata": {},
     "output_type": "execute_result"
    }
   ],
   "source": [
    "# Load the dataset    EDA\n",
    "credit_card_df = pd.read_csv(\"/Users/aswathchary/Desktop/Northeastern University/NEU Course Work/DAMG6105-Data Science Engineering/Data Science_FinalProj_Aswath_Janani/creditcard.csv\")\n",
    "print(\"Total number of records: \"+str(credit_card_df.shape[0]))\n",
    "print(\"Total number of columns: \"+str(credit_card_df.shape[1]))\n",
    "credit_card_df.head(10)"
   ]
  },
  {
   "cell_type": "markdown",
   "metadata": {},
   "source": [
    "As shown above, the data consists of <b> 284807 rows </b> and <b> 31 columns </b>. <br>\n",
    "The variable <b> Class </b> is the <b> dependant variable</b>."
   ]
  },
  {
   "cell_type": "markdown",
   "metadata": {},
   "source": [
    "## Data preprocessing"
   ]
  },
  {
   "cell_type": "code",
   "execution_count": 10,
   "metadata": {},
   "outputs": [
    {
     "data": {
      "text/html": [
       "<div>\n",
       "<style scoped>\n",
       "    .dataframe tbody tr th:only-of-type {\n",
       "        vertical-align: middle;\n",
       "    }\n",
       "\n",
       "    .dataframe tbody tr th {\n",
       "        vertical-align: top;\n",
       "    }\n",
       "\n",
       "    .dataframe thead th {\n",
       "        text-align: right;\n",
       "    }\n",
       "</style>\n",
       "<table border=\"1\" class=\"dataframe\">\n",
       "  <thead>\n",
       "    <tr style=\"text-align: right;\">\n",
       "      <th></th>\n",
       "      <th>Time</th>\n",
       "      <th>V1</th>\n",
       "      <th>V2</th>\n",
       "      <th>V3</th>\n",
       "      <th>V4</th>\n",
       "      <th>V5</th>\n",
       "      <th>V6</th>\n",
       "      <th>V7</th>\n",
       "      <th>V8</th>\n",
       "      <th>V9</th>\n",
       "      <th>...</th>\n",
       "      <th>V21</th>\n",
       "      <th>V22</th>\n",
       "      <th>V23</th>\n",
       "      <th>V24</th>\n",
       "      <th>V25</th>\n",
       "      <th>V26</th>\n",
       "      <th>V27</th>\n",
       "      <th>V28</th>\n",
       "      <th>Amount</th>\n",
       "      <th>Class</th>\n",
       "    </tr>\n",
       "  </thead>\n",
       "  <tbody>\n",
       "    <tr>\n",
       "      <th>count</th>\n",
       "      <td>284807.00000</td>\n",
       "      <td>284807.00000</td>\n",
       "      <td>284807.00000</td>\n",
       "      <td>284807.00000</td>\n",
       "      <td>284807.00000</td>\n",
       "      <td>284807.00000</td>\n",
       "      <td>284807.00000</td>\n",
       "      <td>284807.00000</td>\n",
       "      <td>284807.00000</td>\n",
       "      <td>284807.00000</td>\n",
       "      <td>...</td>\n",
       "      <td>284807.00000</td>\n",
       "      <td>284807.00000</td>\n",
       "      <td>284807.00000</td>\n",
       "      <td>284807.00000</td>\n",
       "      <td>284807.00000</td>\n",
       "      <td>284807.00000</td>\n",
       "      <td>284807.00000</td>\n",
       "      <td>284807.00000</td>\n",
       "      <td>284807.00000</td>\n",
       "      <td>284807.00000</td>\n",
       "    </tr>\n",
       "    <tr>\n",
       "      <th>mean</th>\n",
       "      <td>94813.85958</td>\n",
       "      <td>0.00000</td>\n",
       "      <td>0.00000</td>\n",
       "      <td>-0.00000</td>\n",
       "      <td>0.00000</td>\n",
       "      <td>0.00000</td>\n",
       "      <td>0.00000</td>\n",
       "      <td>-0.00000</td>\n",
       "      <td>0.00000</td>\n",
       "      <td>-0.00000</td>\n",
       "      <td>...</td>\n",
       "      <td>0.00000</td>\n",
       "      <td>-0.00000</td>\n",
       "      <td>0.00000</td>\n",
       "      <td>0.00000</td>\n",
       "      <td>0.00000</td>\n",
       "      <td>0.00000</td>\n",
       "      <td>-0.00000</td>\n",
       "      <td>-0.00000</td>\n",
       "      <td>88.34962</td>\n",
       "      <td>0.00173</td>\n",
       "    </tr>\n",
       "    <tr>\n",
       "      <th>std</th>\n",
       "      <td>47488.14595</td>\n",
       "      <td>1.95870</td>\n",
       "      <td>1.65131</td>\n",
       "      <td>1.51626</td>\n",
       "      <td>1.41587</td>\n",
       "      <td>1.38025</td>\n",
       "      <td>1.33227</td>\n",
       "      <td>1.23709</td>\n",
       "      <td>1.19435</td>\n",
       "      <td>1.09863</td>\n",
       "      <td>...</td>\n",
       "      <td>0.73452</td>\n",
       "      <td>0.72570</td>\n",
       "      <td>0.62446</td>\n",
       "      <td>0.60565</td>\n",
       "      <td>0.52128</td>\n",
       "      <td>0.48223</td>\n",
       "      <td>0.40363</td>\n",
       "      <td>0.33008</td>\n",
       "      <td>250.12011</td>\n",
       "      <td>0.04153</td>\n",
       "    </tr>\n",
       "    <tr>\n",
       "      <th>min</th>\n",
       "      <td>0.00000</td>\n",
       "      <td>-56.40751</td>\n",
       "      <td>-72.71573</td>\n",
       "      <td>-48.32559</td>\n",
       "      <td>-5.68317</td>\n",
       "      <td>-113.74331</td>\n",
       "      <td>-26.16051</td>\n",
       "      <td>-43.55724</td>\n",
       "      <td>-73.21672</td>\n",
       "      <td>-13.43407</td>\n",
       "      <td>...</td>\n",
       "      <td>-34.83038</td>\n",
       "      <td>-10.93314</td>\n",
       "      <td>-44.80774</td>\n",
       "      <td>-2.83663</td>\n",
       "      <td>-10.29540</td>\n",
       "      <td>-2.60455</td>\n",
       "      <td>-22.56568</td>\n",
       "      <td>-15.43008</td>\n",
       "      <td>0.00000</td>\n",
       "      <td>0.00000</td>\n",
       "    </tr>\n",
       "    <tr>\n",
       "      <th>25%</th>\n",
       "      <td>54201.50000</td>\n",
       "      <td>-0.92037</td>\n",
       "      <td>-0.59855</td>\n",
       "      <td>-0.89036</td>\n",
       "      <td>-0.84864</td>\n",
       "      <td>-0.69160</td>\n",
       "      <td>-0.76830</td>\n",
       "      <td>-0.55408</td>\n",
       "      <td>-0.20863</td>\n",
       "      <td>-0.64310</td>\n",
       "      <td>...</td>\n",
       "      <td>-0.22839</td>\n",
       "      <td>-0.54235</td>\n",
       "      <td>-0.16185</td>\n",
       "      <td>-0.35459</td>\n",
       "      <td>-0.31715</td>\n",
       "      <td>-0.32698</td>\n",
       "      <td>-0.07084</td>\n",
       "      <td>-0.05296</td>\n",
       "      <td>5.60000</td>\n",
       "      <td>0.00000</td>\n",
       "    </tr>\n",
       "    <tr>\n",
       "      <th>50%</th>\n",
       "      <td>84692.00000</td>\n",
       "      <td>0.01811</td>\n",
       "      <td>0.06549</td>\n",
       "      <td>0.17985</td>\n",
       "      <td>-0.01985</td>\n",
       "      <td>-0.05434</td>\n",
       "      <td>-0.27419</td>\n",
       "      <td>0.04010</td>\n",
       "      <td>0.02236</td>\n",
       "      <td>-0.05143</td>\n",
       "      <td>...</td>\n",
       "      <td>-0.02945</td>\n",
       "      <td>0.00678</td>\n",
       "      <td>-0.01119</td>\n",
       "      <td>0.04098</td>\n",
       "      <td>0.01659</td>\n",
       "      <td>-0.05214</td>\n",
       "      <td>0.00134</td>\n",
       "      <td>0.01124</td>\n",
       "      <td>22.00000</td>\n",
       "      <td>0.00000</td>\n",
       "    </tr>\n",
       "    <tr>\n",
       "      <th>75%</th>\n",
       "      <td>139320.50000</td>\n",
       "      <td>1.31564</td>\n",
       "      <td>0.80372</td>\n",
       "      <td>1.02720</td>\n",
       "      <td>0.74334</td>\n",
       "      <td>0.61193</td>\n",
       "      <td>0.39856</td>\n",
       "      <td>0.57044</td>\n",
       "      <td>0.32735</td>\n",
       "      <td>0.59714</td>\n",
       "      <td>...</td>\n",
       "      <td>0.18638</td>\n",
       "      <td>0.52855</td>\n",
       "      <td>0.14764</td>\n",
       "      <td>0.43953</td>\n",
       "      <td>0.35072</td>\n",
       "      <td>0.24095</td>\n",
       "      <td>0.09105</td>\n",
       "      <td>0.07828</td>\n",
       "      <td>77.16500</td>\n",
       "      <td>0.00000</td>\n",
       "    </tr>\n",
       "    <tr>\n",
       "      <th>max</th>\n",
       "      <td>172792.00000</td>\n",
       "      <td>2.45493</td>\n",
       "      <td>22.05773</td>\n",
       "      <td>9.38256</td>\n",
       "      <td>16.87534</td>\n",
       "      <td>34.80167</td>\n",
       "      <td>73.30163</td>\n",
       "      <td>120.58949</td>\n",
       "      <td>20.00721</td>\n",
       "      <td>15.59499</td>\n",
       "      <td>...</td>\n",
       "      <td>27.20284</td>\n",
       "      <td>10.50309</td>\n",
       "      <td>22.52841</td>\n",
       "      <td>4.58455</td>\n",
       "      <td>7.51959</td>\n",
       "      <td>3.51735</td>\n",
       "      <td>31.61220</td>\n",
       "      <td>33.84781</td>\n",
       "      <td>25691.16000</td>\n",
       "      <td>1.00000</td>\n",
       "    </tr>\n",
       "  </tbody>\n",
       "</table>\n",
       "<p>8 rows × 31 columns</p>\n",
       "</div>"
      ],
      "text/plain": [
       "              Time           V1           V2           V3           V4  \\\n",
       "count 284807.00000 284807.00000 284807.00000 284807.00000 284807.00000   \n",
       "mean   94813.85958      0.00000      0.00000     -0.00000      0.00000   \n",
       "std    47488.14595      1.95870      1.65131      1.51626      1.41587   \n",
       "min        0.00000    -56.40751    -72.71573    -48.32559     -5.68317   \n",
       "25%    54201.50000     -0.92037     -0.59855     -0.89036     -0.84864   \n",
       "50%    84692.00000      0.01811      0.06549      0.17985     -0.01985   \n",
       "75%   139320.50000      1.31564      0.80372      1.02720      0.74334   \n",
       "max   172792.00000      2.45493     22.05773      9.38256     16.87534   \n",
       "\n",
       "                V5           V6           V7           V8           V9  ...  \\\n",
       "count 284807.00000 284807.00000 284807.00000 284807.00000 284807.00000  ...   \n",
       "mean       0.00000      0.00000     -0.00000      0.00000     -0.00000  ...   \n",
       "std        1.38025      1.33227      1.23709      1.19435      1.09863  ...   \n",
       "min     -113.74331    -26.16051    -43.55724    -73.21672    -13.43407  ...   \n",
       "25%       -0.69160     -0.76830     -0.55408     -0.20863     -0.64310  ...   \n",
       "50%       -0.05434     -0.27419      0.04010      0.02236     -0.05143  ...   \n",
       "75%        0.61193      0.39856      0.57044      0.32735      0.59714  ...   \n",
       "max       34.80167     73.30163    120.58949     20.00721     15.59499  ...   \n",
       "\n",
       "               V21          V22          V23          V24          V25  \\\n",
       "count 284807.00000 284807.00000 284807.00000 284807.00000 284807.00000   \n",
       "mean       0.00000     -0.00000      0.00000      0.00000      0.00000   \n",
       "std        0.73452      0.72570      0.62446      0.60565      0.52128   \n",
       "min      -34.83038    -10.93314    -44.80774     -2.83663    -10.29540   \n",
       "25%       -0.22839     -0.54235     -0.16185     -0.35459     -0.31715   \n",
       "50%       -0.02945      0.00678     -0.01119      0.04098      0.01659   \n",
       "75%        0.18638      0.52855      0.14764      0.43953      0.35072   \n",
       "max       27.20284     10.50309     22.52841      4.58455      7.51959   \n",
       "\n",
       "               V26          V27          V28       Amount        Class  \n",
       "count 284807.00000 284807.00000 284807.00000 284807.00000 284807.00000  \n",
       "mean       0.00000     -0.00000     -0.00000     88.34962      0.00173  \n",
       "std        0.48223      0.40363      0.33008    250.12011      0.04153  \n",
       "min       -2.60455    -22.56568    -15.43008      0.00000      0.00000  \n",
       "25%       -0.32698     -0.07084     -0.05296      5.60000      0.00000  \n",
       "50%       -0.05214      0.00134      0.01124     22.00000      0.00000  \n",
       "75%        0.24095      0.09105      0.07828     77.16500      0.00000  \n",
       "max        3.51735     31.61220     33.84781  25691.16000      1.00000  \n",
       "\n",
       "[8 rows x 31 columns]"
      ]
     },
     "execution_count": 10,
     "metadata": {},
     "output_type": "execute_result"
    }
   ],
   "source": [
    "pd.set_option('display.float_format', lambda x: '%.5f' % x) # to disable scientific notation\n",
    "credit_card_df.describe()"
   ]
  },
  {
   "cell_type": "markdown",
   "metadata": {},
   "source": [
    "The variables V1 to V28 consists of values within a very small range - between -120 to 120. However, the variables <b> Time & Amount </b> seems to have a bigger range of values. <b> Hence, we can scale both the variables before modelling.</b><br>\n",
    "\n",
    "The <b>StandardScaler function from sklearn </b> can be used for the same."
   ]
  },
  {
   "cell_type": "code",
   "execution_count": 11,
   "metadata": {},
   "outputs": [],
   "source": [
    "from sklearn import preprocessing\n",
    "scaler = preprocessing.StandardScaler()\n",
    "\n",
    "#Standardise the values in 'Amount' variable\n",
    "credit_card_df['Time_std'] = scaler.fit_transform(credit_card_df['Time'].values.reshape(-1,1))\n",
    "credit_card_df['Amount_std'] = scaler.fit_transform(credit_card_df['Amount'].values.reshape (-1,1))\n",
    "\n",
    "#removing Time and Amount feature\n",
    "credit_card_df.drop([\"Time\",\"Amount\"], axis=1, inplace=True)"
   ]
  },
  {
   "cell_type": "code",
   "execution_count": 12,
   "metadata": {},
   "outputs": [
    {
     "data": {
      "text/html": [
       "<div>\n",
       "<style scoped>\n",
       "    .dataframe tbody tr th:only-of-type {\n",
       "        vertical-align: middle;\n",
       "    }\n",
       "\n",
       "    .dataframe tbody tr th {\n",
       "        vertical-align: top;\n",
       "    }\n",
       "\n",
       "    .dataframe thead th {\n",
       "        text-align: right;\n",
       "    }\n",
       "</style>\n",
       "<table border=\"1\" class=\"dataframe\">\n",
       "  <thead>\n",
       "    <tr style=\"text-align: right;\">\n",
       "      <th></th>\n",
       "      <th>V1</th>\n",
       "      <th>V2</th>\n",
       "      <th>V3</th>\n",
       "      <th>V4</th>\n",
       "      <th>V5</th>\n",
       "      <th>V6</th>\n",
       "      <th>V7</th>\n",
       "      <th>V8</th>\n",
       "      <th>V9</th>\n",
       "      <th>V10</th>\n",
       "      <th>...</th>\n",
       "      <th>V22</th>\n",
       "      <th>V23</th>\n",
       "      <th>V24</th>\n",
       "      <th>V25</th>\n",
       "      <th>V26</th>\n",
       "      <th>V27</th>\n",
       "      <th>V28</th>\n",
       "      <th>Class</th>\n",
       "      <th>Time_std</th>\n",
       "      <th>Amount_std</th>\n",
       "    </tr>\n",
       "  </thead>\n",
       "  <tbody>\n",
       "    <tr>\n",
       "      <th>count</th>\n",
       "      <td>284807.00000</td>\n",
       "      <td>284807.00000</td>\n",
       "      <td>284807.00000</td>\n",
       "      <td>284807.00000</td>\n",
       "      <td>284807.00000</td>\n",
       "      <td>284807.00000</td>\n",
       "      <td>284807.00000</td>\n",
       "      <td>284807.00000</td>\n",
       "      <td>284807.00000</td>\n",
       "      <td>284807.00000</td>\n",
       "      <td>...</td>\n",
       "      <td>284807.00000</td>\n",
       "      <td>284807.00000</td>\n",
       "      <td>284807.00000</td>\n",
       "      <td>284807.00000</td>\n",
       "      <td>284807.00000</td>\n",
       "      <td>284807.00000</td>\n",
       "      <td>284807.00000</td>\n",
       "      <td>284807.00000</td>\n",
       "      <td>284807.00000</td>\n",
       "      <td>284807.00000</td>\n",
       "    </tr>\n",
       "    <tr>\n",
       "      <th>mean</th>\n",
       "      <td>0.00000</td>\n",
       "      <td>0.00000</td>\n",
       "      <td>-0.00000</td>\n",
       "      <td>0.00000</td>\n",
       "      <td>0.00000</td>\n",
       "      <td>0.00000</td>\n",
       "      <td>-0.00000</td>\n",
       "      <td>0.00000</td>\n",
       "      <td>-0.00000</td>\n",
       "      <td>0.00000</td>\n",
       "      <td>...</td>\n",
       "      <td>-0.00000</td>\n",
       "      <td>0.00000</td>\n",
       "      <td>0.00000</td>\n",
       "      <td>0.00000</td>\n",
       "      <td>0.00000</td>\n",
       "      <td>-0.00000</td>\n",
       "      <td>-0.00000</td>\n",
       "      <td>0.00173</td>\n",
       "      <td>-0.00000</td>\n",
       "      <td>0.00000</td>\n",
       "    </tr>\n",
       "    <tr>\n",
       "      <th>std</th>\n",
       "      <td>1.95870</td>\n",
       "      <td>1.65131</td>\n",
       "      <td>1.51626</td>\n",
       "      <td>1.41587</td>\n",
       "      <td>1.38025</td>\n",
       "      <td>1.33227</td>\n",
       "      <td>1.23709</td>\n",
       "      <td>1.19435</td>\n",
       "      <td>1.09863</td>\n",
       "      <td>1.08885</td>\n",
       "      <td>...</td>\n",
       "      <td>0.72570</td>\n",
       "      <td>0.62446</td>\n",
       "      <td>0.60565</td>\n",
       "      <td>0.52128</td>\n",
       "      <td>0.48223</td>\n",
       "      <td>0.40363</td>\n",
       "      <td>0.33008</td>\n",
       "      <td>0.04153</td>\n",
       "      <td>1.00000</td>\n",
       "      <td>1.00000</td>\n",
       "    </tr>\n",
       "    <tr>\n",
       "      <th>min</th>\n",
       "      <td>-56.40751</td>\n",
       "      <td>-72.71573</td>\n",
       "      <td>-48.32559</td>\n",
       "      <td>-5.68317</td>\n",
       "      <td>-113.74331</td>\n",
       "      <td>-26.16051</td>\n",
       "      <td>-43.55724</td>\n",
       "      <td>-73.21672</td>\n",
       "      <td>-13.43407</td>\n",
       "      <td>-24.58826</td>\n",
       "      <td>...</td>\n",
       "      <td>-10.93314</td>\n",
       "      <td>-44.80774</td>\n",
       "      <td>-2.83663</td>\n",
       "      <td>-10.29540</td>\n",
       "      <td>-2.60455</td>\n",
       "      <td>-22.56568</td>\n",
       "      <td>-15.43008</td>\n",
       "      <td>0.00000</td>\n",
       "      <td>-1.99658</td>\n",
       "      <td>-0.35323</td>\n",
       "    </tr>\n",
       "    <tr>\n",
       "      <th>25%</th>\n",
       "      <td>-0.92037</td>\n",
       "      <td>-0.59855</td>\n",
       "      <td>-0.89036</td>\n",
       "      <td>-0.84864</td>\n",
       "      <td>-0.69160</td>\n",
       "      <td>-0.76830</td>\n",
       "      <td>-0.55408</td>\n",
       "      <td>-0.20863</td>\n",
       "      <td>-0.64310</td>\n",
       "      <td>-0.53543</td>\n",
       "      <td>...</td>\n",
       "      <td>-0.54235</td>\n",
       "      <td>-0.16185</td>\n",
       "      <td>-0.35459</td>\n",
       "      <td>-0.31715</td>\n",
       "      <td>-0.32698</td>\n",
       "      <td>-0.07084</td>\n",
       "      <td>-0.05296</td>\n",
       "      <td>0.00000</td>\n",
       "      <td>-0.85521</td>\n",
       "      <td>-0.33084</td>\n",
       "    </tr>\n",
       "    <tr>\n",
       "      <th>50%</th>\n",
       "      <td>0.01811</td>\n",
       "      <td>0.06549</td>\n",
       "      <td>0.17985</td>\n",
       "      <td>-0.01985</td>\n",
       "      <td>-0.05434</td>\n",
       "      <td>-0.27419</td>\n",
       "      <td>0.04010</td>\n",
       "      <td>0.02236</td>\n",
       "      <td>-0.05143</td>\n",
       "      <td>-0.09292</td>\n",
       "      <td>...</td>\n",
       "      <td>0.00678</td>\n",
       "      <td>-0.01119</td>\n",
       "      <td>0.04098</td>\n",
       "      <td>0.01659</td>\n",
       "      <td>-0.05214</td>\n",
       "      <td>0.00134</td>\n",
       "      <td>0.01124</td>\n",
       "      <td>0.00000</td>\n",
       "      <td>-0.21315</td>\n",
       "      <td>-0.26527</td>\n",
       "    </tr>\n",
       "    <tr>\n",
       "      <th>75%</th>\n",
       "      <td>1.31564</td>\n",
       "      <td>0.80372</td>\n",
       "      <td>1.02720</td>\n",
       "      <td>0.74334</td>\n",
       "      <td>0.61193</td>\n",
       "      <td>0.39856</td>\n",
       "      <td>0.57044</td>\n",
       "      <td>0.32735</td>\n",
       "      <td>0.59714</td>\n",
       "      <td>0.45392</td>\n",
       "      <td>...</td>\n",
       "      <td>0.52855</td>\n",
       "      <td>0.14764</td>\n",
       "      <td>0.43953</td>\n",
       "      <td>0.35072</td>\n",
       "      <td>0.24095</td>\n",
       "      <td>0.09105</td>\n",
       "      <td>0.07828</td>\n",
       "      <td>0.00000</td>\n",
       "      <td>0.93722</td>\n",
       "      <td>-0.04472</td>\n",
       "    </tr>\n",
       "    <tr>\n",
       "      <th>max</th>\n",
       "      <td>2.45493</td>\n",
       "      <td>22.05773</td>\n",
       "      <td>9.38256</td>\n",
       "      <td>16.87534</td>\n",
       "      <td>34.80167</td>\n",
       "      <td>73.30163</td>\n",
       "      <td>120.58949</td>\n",
       "      <td>20.00721</td>\n",
       "      <td>15.59499</td>\n",
       "      <td>23.74514</td>\n",
       "      <td>...</td>\n",
       "      <td>10.50309</td>\n",
       "      <td>22.52841</td>\n",
       "      <td>4.58455</td>\n",
       "      <td>7.51959</td>\n",
       "      <td>3.51735</td>\n",
       "      <td>31.61220</td>\n",
       "      <td>33.84781</td>\n",
       "      <td>1.00000</td>\n",
       "      <td>1.64206</td>\n",
       "      <td>102.36224</td>\n",
       "    </tr>\n",
       "  </tbody>\n",
       "</table>\n",
       "<p>8 rows × 31 columns</p>\n",
       "</div>"
      ],
      "text/plain": [
       "                V1           V2           V3           V4           V5  \\\n",
       "count 284807.00000 284807.00000 284807.00000 284807.00000 284807.00000   \n",
       "mean       0.00000      0.00000     -0.00000      0.00000      0.00000   \n",
       "std        1.95870      1.65131      1.51626      1.41587      1.38025   \n",
       "min      -56.40751    -72.71573    -48.32559     -5.68317   -113.74331   \n",
       "25%       -0.92037     -0.59855     -0.89036     -0.84864     -0.69160   \n",
       "50%        0.01811      0.06549      0.17985     -0.01985     -0.05434   \n",
       "75%        1.31564      0.80372      1.02720      0.74334      0.61193   \n",
       "max        2.45493     22.05773      9.38256     16.87534     34.80167   \n",
       "\n",
       "                V6           V7           V8           V9          V10  ...  \\\n",
       "count 284807.00000 284807.00000 284807.00000 284807.00000 284807.00000  ...   \n",
       "mean       0.00000     -0.00000      0.00000     -0.00000      0.00000  ...   \n",
       "std        1.33227      1.23709      1.19435      1.09863      1.08885  ...   \n",
       "min      -26.16051    -43.55724    -73.21672    -13.43407    -24.58826  ...   \n",
       "25%       -0.76830     -0.55408     -0.20863     -0.64310     -0.53543  ...   \n",
       "50%       -0.27419      0.04010      0.02236     -0.05143     -0.09292  ...   \n",
       "75%        0.39856      0.57044      0.32735      0.59714      0.45392  ...   \n",
       "max       73.30163    120.58949     20.00721     15.59499     23.74514  ...   \n",
       "\n",
       "               V22          V23          V24          V25          V26  \\\n",
       "count 284807.00000 284807.00000 284807.00000 284807.00000 284807.00000   \n",
       "mean      -0.00000      0.00000      0.00000      0.00000      0.00000   \n",
       "std        0.72570      0.62446      0.60565      0.52128      0.48223   \n",
       "min      -10.93314    -44.80774     -2.83663    -10.29540     -2.60455   \n",
       "25%       -0.54235     -0.16185     -0.35459     -0.31715     -0.32698   \n",
       "50%        0.00678     -0.01119      0.04098      0.01659     -0.05214   \n",
       "75%        0.52855      0.14764      0.43953      0.35072      0.24095   \n",
       "max       10.50309     22.52841      4.58455      7.51959      3.51735   \n",
       "\n",
       "               V27          V28        Class     Time_std   Amount_std  \n",
       "count 284807.00000 284807.00000 284807.00000 284807.00000 284807.00000  \n",
       "mean      -0.00000     -0.00000      0.00173     -0.00000      0.00000  \n",
       "std        0.40363      0.33008      0.04153      1.00000      1.00000  \n",
       "min      -22.56568    -15.43008      0.00000     -1.99658     -0.35323  \n",
       "25%       -0.07084     -0.05296      0.00000     -0.85521     -0.33084  \n",
       "50%        0.00134      0.01124      0.00000     -0.21315     -0.26527  \n",
       "75%        0.09105      0.07828      0.00000      0.93722     -0.04472  \n",
       "max       31.61220     33.84781      1.00000      1.64206    102.36224  \n",
       "\n",
       "[8 rows x 31 columns]"
      ]
     },
     "execution_count": 12,
     "metadata": {},
     "output_type": "execute_result"
    }
   ],
   "source": [
    "# Lets check the range of values after applying standard scaler\n",
    "credit_card_df.describe()"
   ]
  },
  {
   "cell_type": "code",
   "execution_count": 13,
   "metadata": {},
   "outputs": [
    {
     "name": "stdout",
     "output_type": "stream",
     "text": [
      "<class 'pandas.core.frame.DataFrame'>\n",
      "RangeIndex: 284807 entries, 0 to 284806\n",
      "Data columns (total 31 columns):\n",
      " #   Column      Non-Null Count   Dtype  \n",
      "---  ------      --------------   -----  \n",
      " 0   V1          284807 non-null  float64\n",
      " 1   V2          284807 non-null  float64\n",
      " 2   V3          284807 non-null  float64\n",
      " 3   V4          284807 non-null  float64\n",
      " 4   V5          284807 non-null  float64\n",
      " 5   V6          284807 non-null  float64\n",
      " 6   V7          284807 non-null  float64\n",
      " 7   V8          284807 non-null  float64\n",
      " 8   V9          284807 non-null  float64\n",
      " 9   V10         284807 non-null  float64\n",
      " 10  V11         284807 non-null  float64\n",
      " 11  V12         284807 non-null  float64\n",
      " 12  V13         284807 non-null  float64\n",
      " 13  V14         284807 non-null  float64\n",
      " 14  V15         284807 non-null  float64\n",
      " 15  V16         284807 non-null  float64\n",
      " 16  V17         284807 non-null  float64\n",
      " 17  V18         284807 non-null  float64\n",
      " 18  V19         284807 non-null  float64\n",
      " 19  V20         284807 non-null  float64\n",
      " 20  V21         284807 non-null  float64\n",
      " 21  V22         284807 non-null  float64\n",
      " 22  V23         284807 non-null  float64\n",
      " 23  V24         284807 non-null  float64\n",
      " 24  V25         284807 non-null  float64\n",
      " 25  V26         284807 non-null  float64\n",
      " 26  V27         284807 non-null  float64\n",
      " 27  V28         284807 non-null  float64\n",
      " 28  Class       284807 non-null  int64  \n",
      " 29  Time_std    284807 non-null  float64\n",
      " 30  Amount_std  284807 non-null  float64\n",
      "dtypes: float64(30), int64(1)\n",
      "memory usage: 67.4 MB\n"
     ]
    }
   ],
   "source": [
    "# Check for missing values\n",
    "credit_card_df.info()"
   ]
  },
  {
   "cell_type": "markdown",
   "metadata": {},
   "source": [
    "There are no missing values in the dataset. Hence, data imputation is not required."
   ]
  },
  {
   "cell_type": "markdown",
   "metadata": {},
   "source": [
    "## Dependent variable distribution"
   ]
  },
  {
   "cell_type": "code",
   "execution_count": 15,
   "metadata": {},
   "outputs": [
    {
     "name": "stdout",
     "output_type": "stream",
     "text": [
      "Non Frauds 99.83 % of the dataset\n",
      "Frauds 0.17 % of the dataset\n"
     ]
    }
   ],
   "source": [
    "print('Non Frauds', round(credit_card_df['Class'].value_counts()[0]/len(credit_card_df) * 100,2), '% of the dataset')\n",
    "print('Frauds', round(credit_card_df['Class'].value_counts()[1]/len(credit_card_df) * 100,2), '% of the dataset')"
   ]
  },
  {
   "cell_type": "code",
   "execution_count": 8,
   "metadata": {},
   "outputs": [
    {
     "data": {
      "text/plain": [
       "<AxesSubplot:xlabel='Class', ylabel='count'>"
      ]
     },
     "execution_count": 8,
     "metadata": {},
     "output_type": "execute_result"
    },
    {
     "data": {
      "image/png": "[encoded data removed]",
      "text/plain": [
       "<Figure size 432x288 with 1 Axes>"
      ]
     },
     "metadata": {
      "needs_background": "light"
     },
     "output_type": "display_data"
    }
   ],
   "source": [
    "sns.countplot(x=\"Class\", data=credit_card_df)"
   ]
  },
  {
   "cell_type": "markdown",
   "metadata": {},
   "source": [
    "<b>The dataset is highly imbalanced !</b> Most of the transactions are non-fraud. If we use this data as the base for our predictive models and analysis we might get a lot of errors and our algorithms will probably overfit since it will \"assume\" that most transactions are not fraud. "
   ]
  },
  {
   "cell_type": "markdown",
   "metadata": {},
   "source": [
    "## Resampling to handle imbalance"
   ]
  },
  {
   "cell_type": "markdown",
   "metadata": {},
   "source": [
    "Dealing with imbalanced datasets entails strategies such as improving classification algorithms or balancing classes in the training data (data preprocessing) before providing the data as input to the machine learning algorithm. The later technique is preferred as it has wider application.<br>\n",
    "\n",
    "The main objective of balancing classes is to either increasing the frequency of the minority class or decreasing the frequency of the majority class. This is done in order to obtain approximately the same number of instances for both the classes"
   ]
  },
  {
   "attachments": {
    "image.png": {
     "image/png": "[encoded data removed]"
    }
   },
   "cell_type": "markdown",
   "metadata": {},
   "source": [
    "The simplest resampling method is using the undersampling technique which randomly selecting examples from the majority class and deleting them from the training dataset. This is referred to as random undersampling. <br>\n",
    "\n",
    "Although simple and effective, a limitation of this technique is that examples are removed without any concern for how useful or important they might be in determining the decision boundary between the classes. This means it is possible, or even likely, that useful information will be deleted.\n",
    "\n",
    "![image.png](attachment:image.png)"
   ]
  },
  {
   "cell_type": "markdown",
   "metadata": {},
   "source": [
    "For resampling methods, we can use the <b>imblearn package</b> which comes in-built with various resampling strategies. <br>\n",
    "\n",
    "<b><i>When we use any sampling technique, we divide the data first into train & test sets and then apply sampling on the training data only. Once the model is trained, we evaluate the model on the test set that contains only the original samples.</i></b>"
   ]
  },
  {
   "cell_type": "code",
   "execution_count": 9,
   "metadata": {},
   "outputs": [],
   "source": [
    "from sklearn.model_selection import train_test_split\n",
    "\n",
    "# define the input columns and target columns\n",
    "cols = credit_card_df.columns.tolist()\n",
    "cols = [c for c in cols if c not in [\"Class\"]]\n",
    "target = \"Class\"\n",
    "\n",
    "#define X and Y\n",
    "X = credit_card_df[cols]\n",
    "Y = credit_card_df[target]\n",
    "\n",
    "X_train, X_test, y_train, y_test = train_test_split(X, Y, stratify=Y, test_size=0.25)"
   ]
  },
  {
   "cell_type": "code",
   "execution_count": 10,
   "metadata": {},
   "outputs": [],
   "source": [
    "import imblearn\n",
    "from imblearn.under_sampling import RandomUnderSampler \n",
    "undersample = RandomUnderSampler(sampling_strategy=0.4)\n",
    "\n",
    "#undersample the training data\n",
    "X_train_undersampled, Y_train_undersampled = undersample.fit_resample(X_train, y_train)"
   ]
  },
  {
   "cell_type": "code",
   "execution_count": 11,
   "metadata": {},
   "outputs": [
    {
     "name": "stdout",
     "output_type": "stream",
     "text": [
      "Class variable distrubution before undersampling:\n",
      "0    213236\n",
      "1       369\n",
      "Name: Class, dtype: int64\n"
     ]
    }
   ],
   "source": [
    "print(\"Class variable distrubution before undersampling:\\n\"+str(y_train.value_counts()))"
   ]
  },
  {
   "cell_type": "code",
   "execution_count": 12,
   "metadata": {},
   "outputs": [
    {
     "name": "stdout",
     "output_type": "stream",
     "text": [
      "Class variable distribution after undersampling:\n",
      "0    922\n",
      "1    369\n",
      "Name: Class, dtype: int64\n"
     ]
    }
   ],
   "source": [
    "print(\"Class variable distribution after undersampling:\\n\"+str(Y_train_undersampled.value_counts()))"
   ]
  },
  {
   "cell_type": "markdown",
   "metadata": {},
   "source": [
    "## Model development"
   ]
  },
  {
   "cell_type": "markdown",
   "metadata": {},
   "source": [
    "We can explore several machine learning classification models in order to find which one performs best on our data. The following models will be used:\n",
    "\n",
    "- Logistic regression\n",
    "- Random Forest Classifier\n",
    "- Support Vector Classifier\n",
    "- Gradient Boosting Classifier\n",
    "\n",
    "The methodology used to train each model is as follows:\n",
    "\n",
    "- Select the set of hyperparameters to tune for each model.\n",
    "- Define the metric we'll get when measuring the performance of a model. In this case, we'll use the accuracy. (The final metric of choice will be the AUROC score of the model since accuracy is not a good metric for imbalanced classification).\n",
    "- Perform a Randomized Search Cross Validation process in order to find the hyperparameter region in which we get higher values of accuracy.\n",
    "- Use a Grid Search Cross Validation process to exhaustively find the best combination of hyperparameters around the best region identified using Randomized Search Cross Validation.\n",
    "- Evaluate the models on the test set and choose the best model based on the evaluation metrics."
   ]
  },
  {
   "cell_type": "code",
   "execution_count": 13,
   "metadata": {},
   "outputs": [],
   "source": [
    "#importing packages for modeling\n",
    "from sklearn.linear_model import LogisticRegression\n",
    "from sklearn import svm\n",
    "from sklearn.svm import SVC\n",
    "from sklearn.ensemble import RandomForestClassifier\n",
    "from sklearn.ensemble import GradientBoostingClassifier\n",
    "\n",
    "from sklearn import metrics\n",
    "from sklearn.metrics import classification_report, accuracy_score\n",
    "from sklearn.metrics import plot_confusion_matrix\n",
    "from sklearn.metrics import roc_curve\n",
    "from sklearn.metrics import roc_auc_score\n",
    "from sklearn.metrics import auc\n",
    "from sklearn.metrics import precision_recall_curve\n",
    "\n",
    "from sklearn.model_selection import RandomizedSearchCV\n",
    "from sklearn.model_selection import GridSearchCV\n",
    "from sklearn.model_selection import ShuffleSplit\n",
    "from pprint import pprint"
   ]
  },
  {
   "cell_type": "code",
   "execution_count": 14,
   "metadata": {},
   "outputs": [],
   "source": [
    "# Turn the values into an array for feeding the classification algorithms.\n",
    "X_train = X_train_undersampled.values\n",
    "y_train = Y_train_undersampled.values"
   ]
  },
  {
   "cell_type": "code",
   "execution_count": 15,
   "metadata": {},
   "outputs": [],
   "source": [
    "# Let's implement the classifiers without tuning any hyperparameters (Baseline models)\n",
    "\n",
    "classifiers = {\n",
    "    \"LogisiticRegression\": LogisticRegression(),\n",
    "    \"SupportVectorClassifier\": SVC(),\n",
    "    \"RandomForestClassifier\": RandomForestClassifier(),\n",
    "    \"GradientBoostingClassifier\": GradientBoostingClassifier()\n",
    "}"
   ]
  },
  {
   "cell_type": "code",
   "execution_count": 16,
   "metadata": {},
   "outputs": [
    {
     "name": "stdout",
     "output_type": "stream",
     "text": [
      "Classifiers:  LogisticRegression has a training score of 96.0 % accuracy score\n",
      "Classifiers:  SVC has a training score of 95.0 % accuracy score\n",
      "Classifiers:  RandomForestClassifier has a training score of 95.0 % accuracy score\n",
      "Classifiers:  GradientBoostingClassifier has a training score of 95.0 % accuracy score\n"
     ]
    }
   ],
   "source": [
    "# We will use 5-fold cross validation to check our model performance scores\n",
    "from sklearn.model_selection import cross_val_score\n",
    "\n",
    "\n",
    "for key, classifier in classifiers.items():\n",
    "    classifier.fit(X_train, y_train)\n",
    "    training_score = cross_val_score(classifier, X_train, y_train, cv=5)\n",
    "    print(\"Classifiers: \", classifier.__class__.__name__, \"has a training score of\", round(training_score.mean(), 2) * 100, \"% accuracy score\")"
   ]
  },
  {
   "cell_type": "markdown",
   "metadata": {},
   "source": [
    "The baseline scores of the models looks very promising. All the models yield a very good training score. We can further use hyperparameter tuning to improve the performance of each model and further evaluate on the test set to choose our final model."
   ]
  },
  {
   "cell_type": "markdown",
   "metadata": {},
   "source": [
    "## Logistic Regression"
   ]
  },
  {
   "cell_type": "code",
   "execution_count": 17,
   "metadata": {},
   "outputs": [
    {
     "name": "stdout",
     "output_type": "stream",
     "text": [
      "Parameters currently in use:\n",
      "\n",
      "{'C': 1.0,\n",
      " 'class_weight': None,\n",
      " 'dual': False,\n",
      " 'fit_intercept': True,\n",
      " 'intercept_scaling': 1,\n",
      " 'l1_ratio': None,\n",
      " 'max_iter': 100,\n",
      " 'multi_class': 'auto',\n",
      " 'n_jobs': None,\n",
      " 'penalty': 'l2',\n",
      " 'random_state': 8,\n",
      " 'solver': 'lbfgs',\n",
      " 'tol': 0.0001,\n",
      " 'verbose': 0,\n",
      " 'warm_start': False}\n"
     ]
    }
   ],
   "source": [
    "base_lr_model = LogisticRegression(random_state = 8)\n",
    "\n",
    "print('Parameters currently in use:\\n')\n",
    "pprint(base_lr_model.get_params())"
   ]
  },
  {
   "cell_type": "markdown",
   "metadata": {},
   "source": [
    "### Hyperparameter tuning using Cross Validation"
   ]
  },
  {
   "cell_type": "markdown",
   "metadata": {},
   "source": [
    "\n",
    "The following hyperparameters will be tuned:\n",
    "\n",
    "- <i><b>C</b></i> : Inverse of regularization strength. Smaller values specify stronger regularization.\n",
    "- <i><b>class_weight</b></i> : Weights associated with classes.\n",
    "- <i><b>penalty</b></i> : Used to specify the norm used in the penalization. The ‘newton-cg’, ‘sag’ and ‘lbfgs’ solvers support only l2 penalties."
   ]
  },
  {
   "cell_type": "code",
   "execution_count": 18,
   "metadata": {},
   "outputs": [
    {
     "name": "stdout",
     "output_type": "stream",
     "text": [
      "{'C': [0.1,\n",
      "       0.2,\n",
      "       0.30000000000000004,\n",
      "       0.4,\n",
      "       0.5,\n",
      "       0.6,\n",
      "       0.7000000000000001,\n",
      "       0.8,\n",
      "       0.9,\n",
      "       1.0],\n",
      " 'class_weight': ['balanced', None],\n",
      " 'penalty': ['l1', 'l2'],\n",
      " 'solver': ['liblinear']}\n"
     ]
    }
   ],
   "source": [
    "# C\n",
    "C = [float(x) for x in np.linspace(start = 0.1, stop = 1, num = 10)]\n",
    "\n",
    "# solver\n",
    "solver = ['liblinear'] #For small datasets, ‘liblinear’ is a good choice.\n",
    " \n",
    "# class_weight\n",
    "class_weight = ['balanced', None]\n",
    "\n",
    "# penalty\n",
    "penalty = ['l1','l2']\n",
    "\n",
    "# Create the random grid\n",
    "random_grid = {'C': C,\n",
    "               'solver': solver,\n",
    "               'class_weight': class_weight,\n",
    "               'penalty': penalty}\n",
    "\n",
    "pprint(random_grid)"
   ]
  },
  {
   "cell_type": "markdown",
   "metadata": {},
   "source": [
    "#### Randomized Search Cross Validation"
   ]
  },
  {
   "cell_type": "code",
   "execution_count": 19,
   "metadata": {},
   "outputs": [
    {
     "name": "stdout",
     "output_type": "stream",
     "text": [
      "Fitting 3 folds for each of 30 candidates, totalling 90 fits\n"
     ]
    },
    {
     "data": {
      "text/plain": [
       "RandomizedSearchCV(cv=3, estimator=LogisticRegression(random_state=8),\n",
       "                   n_iter=30,\n",
       "                   param_distributions={'C': [0.1, 0.2, 0.30000000000000004,\n",
       "                                              0.4, 0.5, 0.6, 0.7000000000000001,\n",
       "                                              0.8, 0.9, 1.0],\n",
       "                                        'class_weight': ['balanced', None],\n",
       "                                        'penalty': ['l1', 'l2'],\n",
       "                                        'solver': ['liblinear']},\n",
       "                   random_state=8, scoring='accuracy', verbose=1)"
      ]
     },
     "execution_count": 19,
     "metadata": {},
     "output_type": "execute_result"
    }
   ],
   "source": [
    "# Definition of the random search\n",
    "random_search_LRC = RandomizedSearchCV(estimator=base_lr_model,\n",
    "                                   param_distributions=random_grid,\n",
    "                                   n_iter=30,\n",
    "                                   scoring='accuracy',\n",
    "                                   cv=3, \n",
    "                                   verbose=1, \n",
    "                                   random_state=8)\n",
    "\n",
    "# Fit the random search model\n",
    "random_search_LRC.fit(X_train, y_train)"
   ]
  },
  {
   "cell_type": "code",
   "execution_count": 20,
   "metadata": {},
   "outputs": [
    {
     "name": "stdout",
     "output_type": "stream",
     "text": [
      "The best hyperparameters from Random Search are:\n",
      "{'solver': 'liblinear', 'penalty': 'l1', 'class_weight': None, 'C': 0.2}\n",
      "\n",
      "The mean accuracy of a model with these hyperparameters is:\n",
      "0.9604849008075685\n"
     ]
    }
   ],
   "source": [
    "print(\"The best hyperparameters from Random Search are:\")\n",
    "print(random_search_LRC.best_params_)\n",
    "print(\"\")\n",
    "print(\"The mean accuracy of a model with these hyperparameters is:\")\n",
    "print(random_search_LRC.best_score_)"
   ]
  },
  {
   "cell_type": "markdown",
   "metadata": {},
   "source": [
    "#### Grid Search Cross Validation <br>\n",
    "\n",
    "Do a more centered search around the hyperparameter values obtained using Randomized Search CV"
   ]
  },
  {
   "cell_type": "code",
   "execution_count": 21,
   "metadata": {},
   "outputs": [
    {
     "name": "stdout",
     "output_type": "stream",
     "text": [
      "Fitting 3 folds for each of 10 candidates, totalling 30 fits\n"
     ]
    },
    {
     "data": {
      "text/plain": [
       "GridSearchCV(cv=ShuffleSplit(n_splits=3, random_state=8, test_size=0.33, train_size=None),\n",
       "             estimator=LogisticRegression(random_state=8),\n",
       "             param_grid={'C': [0.7, 0.7333333333333333, 0.7666666666666666,\n",
       "                               0.7999999999999999, 0.8333333333333333,\n",
       "                               0.8666666666666667, 0.9, 0.9333333333333333,\n",
       "                               0.9666666666666667, 1.0],\n",
       "                         'class_weight': [None], 'penalty': ['l1'],\n",
       "                         'solver': ['liblinear']},\n",
       "             scoring='accuracy', verbose=1)"
      ]
     },
     "execution_count": 21,
     "metadata": {},
     "output_type": "execute_result"
    }
   ],
   "source": [
    "# Create the parameter grid based on the results of random search \n",
    "C = [float(x) for x in np.linspace(start = 0.7, stop = 1, num = 10)]\n",
    "solver = ['liblinear']\n",
    "class_weight = [None]\n",
    "penalty = ['l1']\n",
    "\n",
    "param_grid = {'C': C,\n",
    "               'solver': solver,\n",
    "               'class_weight': class_weight,\n",
    "               'penalty': penalty}\n",
    "\n",
    "\n",
    "# Manually create the splits in CV in order to be able to fix a random_state (GridSearchCV doesn't have that argument)\n",
    "cv_sets = ShuffleSplit(n_splits = 3, test_size = .33, random_state = 8)\n",
    "\n",
    "# Instantiate the grid search model\n",
    "grid_search_LRC = GridSearchCV(estimator=base_lr_model, \n",
    "                           param_grid=param_grid,\n",
    "                           scoring='accuracy',\n",
    "                           cv=cv_sets,\n",
    "                           verbose=1)\n",
    "\n",
    "# Fit the grid search to the data\n",
    "grid_search_LRC.fit(X_train, y_train)"
   ]
  },
  {
   "cell_type": "code",
   "execution_count": 22,
   "metadata": {},
   "outputs": [
    {
     "name": "stdout",
     "output_type": "stream",
     "text": [
      "The best hyperparameters from Grid Search are:\n",
      "{'C': 0.7, 'class_weight': None, 'penalty': 'l1', 'solver': 'liblinear'}\n",
      "\n",
      "The mean accuracy of a model with these hyperparameters is:\n",
      "0.9640905542544886\n"
     ]
    }
   ],
   "source": [
    "print(\"The best hyperparameters from Grid Search are:\")\n",
    "print(grid_search_LRC.best_params_)\n",
    "print(\"\")\n",
    "print(\"The mean accuracy of a model with these hyperparameters is:\")\n",
    "print(grid_search_LRC.best_score_)"
   ]
  },
  {
   "cell_type": "code",
   "execution_count": 23,
   "metadata": {},
   "outputs": [],
   "source": [
    "best_lrc = grid_search_LRC.best_estimator_\n",
    "best_lrc.fit(X_train,y_train)\n",
    "\n",
    "#Predict on test data\n",
    "lrc_pred = best_lrc.predict(X_test)"
   ]
  },
  {
   "cell_type": "markdown",
   "metadata": {},
   "source": [
    "#### Logistic regression model - Test data evaluation"
   ]
  },
  {
   "cell_type": "code",
   "execution_count": 24,
   "metadata": {},
   "outputs": [
    {
     "name": "stdout",
     "output_type": "stream",
     "text": [
      "The test accuracy is: \n",
      "0.9867279009016601\n",
      "\n",
      "\n",
      "Classification report\n",
      "              precision    recall  f1-score   support\n",
      "\n",
      "   Non-fraud       1.00      0.99      0.99     71079\n",
      "       Fraud       0.11      0.92      0.19       123\n",
      "\n",
      "    accuracy                           0.99     71202\n",
      "   macro avg       0.55      0.95      0.59     71202\n",
      "weighted avg       1.00      0.99      0.99     71202\n",
      "\n",
      "\n",
      "\n",
      "<sklearn.metrics._plot.confusion_matrix.ConfusionMatrixDisplay object at 0x7fbe28da6130>\n"
     ]
    },
    {
     "data": {
      "image/png": "[encoded data removed]",
      "text/plain": [
       "<Figure size 432x288 with 2 Axes>"
      ]
     },
     "metadata": {
      "needs_background": "light"
     },
     "output_type": "display_data"
    }
   ],
   "source": [
    "# Test accuracy\n",
    "print(\"The test accuracy is: \")\n",
    "print(accuracy_score(y_test, lrc_pred))\n",
    "print(\"\\n\")\n",
    "\n",
    "# Classification report\n",
    "print(\"Classification report\")\n",
    "print(classification_report(y_test,lrc_pred, target_names=['Non-fraud', 'Fraud']))\n",
    "print(\"\\n\")\n",
    "\n",
    "#Confusion matrix\n",
    "print(plot_confusion_matrix(best_lrc, X_test, y_test, values_format = '',cmap=plt.cm.Greens, display_labels=['Non-fraud','Fraud']))"
   ]
  },
  {
   "cell_type": "code",
   "execution_count": 25,
   "metadata": {},
   "outputs": [
    {
     "name": "stdout",
     "output_type": "stream",
     "text": [
      "AUC Logistic Regression : 0.9702271616478035\n"
     ]
    },
    {
     "data": {
      "image/png": "[encoded data removed]",
      "text/plain": [
       "<Figure size 432x288 with 1 Axes>"
      ]
     },
     "metadata": {
      "needs_background": "light"
     },
     "output_type": "display_data"
    }
   ],
   "source": [
    "# Plot ROC AUC curve\n",
    "#AUC\n",
    "lrc_pred_proba = best_lrc.predict_proba(X_test)[::,1]\n",
    "lrc_fpr, lrc_tpr, _ = metrics.roc_curve(y_test,  lrc_pred_proba)\n",
    "LRC_auc = metrics.roc_auc_score(y_test, lrc_pred_proba)\n",
    "print(\"AUC Logistic Regression :\", LRC_auc)\n",
    "\n",
    "#ROC\n",
    "plt.plot(lrc_fpr,lrc_tpr,label=\"Logistic Regression, auc={:.3f})\".format(LRC_auc))\n",
    "plt.plot([0, 1], [0, 1], 'k--')\n",
    "plt.xlabel('False positive rate')\n",
    "plt.ylabel('True positive rate')\n",
    "plt.title('Logistic Regression ROC curve')\n",
    "plt.legend(loc=4)\n",
    "plt.show()"
   ]
  },
  {
   "cell_type": "markdown",
   "metadata": {},
   "source": [
    "## Support Vector Classifier"
   ]
  },
  {
   "cell_type": "code",
   "execution_count": 26,
   "metadata": {},
   "outputs": [
    {
     "name": "stdout",
     "output_type": "stream",
     "text": [
      "Parameters currently in use:\n",
      "\n",
      "{'C': 1.0,\n",
      " 'break_ties': False,\n",
      " 'cache_size': 200,\n",
      " 'class_weight': None,\n",
      " 'coef0': 0.0,\n",
      " 'decision_function_shape': 'ovr',\n",
      " 'degree': 3,\n",
      " 'gamma': 'scale',\n",
      " 'kernel': 'rbf',\n",
      " 'max_iter': -1,\n",
      " 'probability': False,\n",
      " 'random_state': 8,\n",
      " 'shrinking': True,\n",
      " 'tol': 0.001,\n",
      " 'verbose': False}\n"
     ]
    }
   ],
   "source": [
    "base_svc = svm.SVC(random_state=8)\n",
    "\n",
    "print('Parameters currently in use:\\n')\n",
    "pprint(base_svc.get_params())"
   ]
  },
  {
   "cell_type": "markdown",
   "metadata": {},
   "source": [
    "#### Hyperparameter Tuning using Cross Validation"
   ]
  },
  {
   "cell_type": "markdown",
   "metadata": {},
   "source": [
    "The following hyperparameters will be tuned:<br>\n",
    "- <b><i>C</i></b>: Penalty parameter C of the error term.<br>\n",
    "- <b><i>kernel</i></b>: Specifies the kernel type to be used in the algorithm.<br>\n",
    "- <b><i>gamma</i></b>: Kernel coefficient.<br>\n",
    "- <b><i>degree</i></b>: Degree of the polynomial kernel function.<br>"
   ]
  },
  {
   "cell_type": "markdown",
   "metadata": {},
   "source": [
    "#### Randomized Search Cross Validation"
   ]
  },
  {
   "cell_type": "code",
   "execution_count": 27,
   "metadata": {},
   "outputs": [
    {
     "name": "stdout",
     "output_type": "stream",
     "text": [
      "{'C': [0.0001, 0.001, 0.01],\n",
      " 'degree': [1, 2, 3, 4, 5],\n",
      " 'gamma': [0.0001, 0.001, 0.01, 0.1, 1, 10, 100],\n",
      " 'kernel': ['linear', 'rbf', 'poly'],\n",
      " 'probability': [True]}\n"
     ]
    }
   ],
   "source": [
    "# C\n",
    "C = [.0001, .001, .01]\n",
    "\n",
    "# gamma\n",
    "gamma = [.0001, .001, .01, .1, 1, 10, 100]\n",
    "\n",
    "# degree\n",
    "degree = [1, 2, 3, 4, 5]\n",
    "\n",
    "# kernel\n",
    "kernel = ['linear', 'rbf', 'poly']\n",
    "\n",
    "# probability\n",
    "probability = [True]\n",
    "\n",
    "# Create the random grid\n",
    "random_grid = {'C': C,\n",
    "              'kernel': kernel,\n",
    "              'gamma': gamma,\n",
    "              'degree': degree,\n",
    "              'probability': probability\n",
    "             }\n",
    "\n",
    "pprint(random_grid)"
   ]
  },
  {
   "cell_type": "code",
   "execution_count": 28,
   "metadata": {},
   "outputs": [
    {
     "name": "stdout",
     "output_type": "stream",
     "text": [
      "Fitting 3 folds for each of 50 candidates, totalling 150 fits\n"
     ]
    },
    {
     "data": {
      "text/plain": [
       "RandomizedSearchCV(cv=3, estimator=SVC(random_state=8), n_iter=50,\n",
       "                   param_distributions={'C': [0.0001, 0.001, 0.01],\n",
       "                                        'degree': [1, 2, 3, 4, 5],\n",
       "                                        'gamma': [0.0001, 0.001, 0.01, 0.1, 1,\n",
       "                                                  10, 100],\n",
       "                                        'kernel': ['linear', 'rbf', 'poly'],\n",
       "                                        'probability': [True]},\n",
       "                   random_state=8, scoring='accuracy', verbose=1)"
      ]
     },
     "execution_count": 28,
     "metadata": {},
     "output_type": "execute_result"
    }
   ],
   "source": [
    "# First create the base model to tune\n",
    "svc = svm.SVC(random_state=8)\n",
    "\n",
    "# Definition of the random search\n",
    "random_search_SVC = RandomizedSearchCV(estimator=base_svc,\n",
    "                                   param_distributions=random_grid,\n",
    "                                   n_iter=50,\n",
    "                                   scoring='accuracy',\n",
    "                                   cv=3, \n",
    "                                   verbose=1, \n",
    "                                   random_state=8)\n",
    "\n",
    "# Fit the random search model\n",
    "random_search_SVC.fit(X_train, y_train)"
   ]
  },
  {
   "cell_type": "code",
   "execution_count": 29,
   "metadata": {},
   "outputs": [
    {
     "name": "stdout",
     "output_type": "stream",
     "text": [
      "The best hyperparameters from Random Search are:\n",
      "{'probability': True, 'kernel': 'poly', 'gamma': 1, 'degree': 3, 'C': 0.0001}\n",
      "\n",
      "The mean accuracy of a model with these hyperparameters is:\n",
      "0.9550585442184212\n"
     ]
    }
   ],
   "source": [
    "print(\"The best hyperparameters from Random Search are:\")\n",
    "print(random_search_SVC.best_params_)\n",
    "print(\"\")\n",
    "print(\"The mean accuracy of a model with these hyperparameters is:\")\n",
    "print(random_search_SVC.best_score_)"
   ]
  },
  {
   "cell_type": "markdown",
   "metadata": {},
   "source": [
    "#### Grid Search Cross Validation"
   ]
  },
  {
   "cell_type": "code",
   "execution_count": 30,
   "metadata": {},
   "outputs": [
    {
     "name": "stdout",
     "output_type": "stream",
     "text": [
      "Fitting 3 folds for each of 21 candidates, totalling 63 fits\n"
     ]
    },
    {
     "data": {
      "text/plain": [
       "GridSearchCV(cv=ShuffleSplit(n_splits=3, random_state=8, test_size=0.33, train_size=None),\n",
       "             estimator=SVC(random_state=8),\n",
       "             param_grid=[{'C': [0.0001, 0.001, 0.01], 'kernel': ['linear'],\n",
       "                          'probability': [True]},\n",
       "                         {'C': [0.0001, 0.001, 0.01], 'degree': [3, 4, 5],\n",
       "                          'kernel': ['poly'], 'probability': [True]},\n",
       "                         {'C': [0.0001, 0.001, 0.01],\n",
       "                          'gamma': [0.0001, 0.001, 0.01], 'kernel': ['rbf'],\n",
       "                          'probability': [True]}],\n",
       "             scoring='accuracy', verbose=1)"
      ]
     },
     "execution_count": 30,
     "metadata": {},
     "output_type": "execute_result"
    }
   ],
   "source": [
    "# Create the parameter grid based on the results of random search \n",
    "C = [.0001, .001, .01]\n",
    "degree = [3, 4, 5]\n",
    "gamma = [0.0001, 0.001, 0.01]\n",
    "probability = [True]\n",
    "kernel = ['linear']\n",
    "\n",
    "param_grid = [\n",
    "  {'C': C, 'kernel':['linear'], 'probability':probability},\n",
    "  {'C': C, 'kernel':['poly'], 'degree':degree, 'probability':probability},\n",
    "  {'C': C, 'kernel':['rbf'], 'gamma':gamma, 'probability':probability}\n",
    "]\n",
    "\n",
    "\n",
    "# Manually create the splits in CV in order to be able to fix a random_state (GridSearchCV doesn't have that argument)\n",
    "cv_sets = ShuffleSplit(n_splits = 3, test_size = .33, random_state = 8)\n",
    "\n",
    "# Instantiate the grid search model\n",
    "grid_search_SVC = GridSearchCV(estimator=base_svc, \n",
    "                           param_grid=param_grid,\n",
    "                           scoring='accuracy',\n",
    "                           cv=cv_sets,\n",
    "                           verbose=1)\n",
    "\n",
    "# Fit the grid search to the data\n",
    "grid_search_SVC.fit(X_train, y_train)"
   ]
  },
  {
   "cell_type": "code",
   "execution_count": 31,
   "metadata": {},
   "outputs": [
    {
     "name": "stdout",
     "output_type": "stream",
     "text": [
      "The best hyperparameters from Grid Search are:\n",
      "{'C': 0.01, 'kernel': 'linear', 'probability': True}\n",
      "\n",
      "The mean accuracy of a model with these hyperparameters is:\n",
      "0.9547228727556597\n"
     ]
    }
   ],
   "source": [
    "print(\"The best hyperparameters from Grid Search are:\")\n",
    "print(grid_search_SVC.best_params_)\n",
    "print(\"\")\n",
    "print(\"The mean accuracy of a model with these hyperparameters is:\")\n",
    "print(grid_search_SVC.best_score_)"
   ]
  },
  {
   "cell_type": "code",
   "execution_count": 32,
   "metadata": {},
   "outputs": [],
   "source": [
    "best_svc = grid_search_SVC.best_estimator_\n",
    "best_svc.fit(X_train,y_train)\n",
    "\n",
    "#Predict on test data\n",
    "svc_pred = best_svc.predict(X_test)"
   ]
  },
  {
   "cell_type": "markdown",
   "metadata": {},
   "source": [
    "#### Support Vector Classifier model - Test data evaluation"
   ]
  },
  {
   "cell_type": "code",
   "execution_count": 33,
   "metadata": {},
   "outputs": [
    {
     "name": "stdout",
     "output_type": "stream",
     "text": [
      "The test accuracy is: \n",
      "0.9933007499789331\n",
      "\n",
      "\n",
      "Classification report\n",
      "              precision    recall  f1-score   support\n",
      "\n",
      "   Non-fraud       1.00      0.99      1.00     71079\n",
      "       Fraud       0.19      0.91      0.32       123\n",
      "\n",
      "    accuracy                           0.99     71202\n",
      "   macro avg       0.60      0.95      0.66     71202\n",
      "weighted avg       1.00      0.99      1.00     71202\n",
      "\n",
      "\n",
      "\n",
      "<sklearn.metrics._plot.confusion_matrix.ConfusionMatrixDisplay object at 0x7fbe28baef70>\n"
     ]
    },
    {
     "data": {
      "image/png": "[encoded data removed]",
      "text/plain": [
       "<Figure size 432x288 with 2 Axes>"
      ]
     },
     "metadata": {
      "needs_background": "light"
     },
     "output_type": "display_data"
    }
   ],
   "source": [
    "# Test accuracy\n",
    "print(\"The test accuracy is: \")\n",
    "print(accuracy_score(y_test, svc_pred))\n",
    "print(\"\\n\")\n",
    "\n",
    "# Classification report\n",
    "print(\"Classification report\")\n",
    "print(classification_report(y_test,svc_pred, target_names=['Non-fraud', 'Fraud']))\n",
    "print(\"\\n\")\n",
    "\n",
    "#Confusion matrix\n",
    "print(plot_confusion_matrix(best_svc, X_test, y_test, values_format = '',cmap=plt.cm.Greens, display_labels=['Non-fraud','Fraud']))"
   ]
  },
  {
   "cell_type": "code",
   "execution_count": 34,
   "metadata": {},
   "outputs": [
    {
     "name": "stdout",
     "output_type": "stream",
     "text": [
      "AUC Support Vector Classifier : 0.9760357678282391\n"
     ]
    },
    {
     "data": {
      "image/png": "[encoded data removed]",
      "text/plain": [
       "<Figure size 432x288 with 1 Axes>"
      ]
     },
     "metadata": {
      "needs_background": "light"
     },
     "output_type": "display_data"
    }
   ],
   "source": [
    "# Plot ROC AUC curve\n",
    "#AUC\n",
    "svc_pred_proba = best_svc.predict_proba(X_test)[::,1]\n",
    "svc_fpr, svc_tpr, _ = metrics.roc_curve(y_test,  svc_pred_proba)\n",
    "svc_auc = metrics.roc_auc_score(y_test, svc_pred_proba)\n",
    "print(\"AUC Support Vector Classifier :\", svc_auc)\n",
    "\n",
    "#ROC\n",
    "plt.plot(svc_fpr,svc_tpr,label=\"Support Vector Classifier, auc={:.3f})\".format(svc_auc))\n",
    "plt.plot([0, 1], [0, 1], 'k--')\n",
    "plt.xlabel('False positive rate')\n",
    "plt.ylabel('True positive rate')\n",
    "plt.title('Support Vector Classifier ROC curve')\n",
    "plt.legend(loc=4)\n",
    "plt.show()"
   ]
  },
  {
   "cell_type": "markdown",
   "metadata": {},
   "source": [
    "### Random Forest Classifier"
   ]
  },
  {
   "cell_type": "code",
   "execution_count": 35,
   "metadata": {},
   "outputs": [
    {
     "name": "stdout",
     "output_type": "stream",
     "text": [
      "Parameters currently in use:\n",
      "\n",
      "{'bootstrap': True,\n",
      " 'ccp_alpha': 0.0,\n",
      " 'class_weight': None,\n",
      " 'criterion': 'gini',\n",
      " 'max_depth': None,\n",
      " 'max_features': 'auto',\n",
      " 'max_leaf_nodes': None,\n",
      " 'max_samples': None,\n",
      " 'min_impurity_decrease': 0.0,\n",
      " 'min_samples_leaf': 1,\n",
      " 'min_samples_split': 2,\n",
      " 'min_weight_fraction_leaf': 0.0,\n",
      " 'n_estimators': 100,\n",
      " 'n_jobs': None,\n",
      " 'oob_score': False,\n",
      " 'random_state': 8,\n",
      " 'verbose': 0,\n",
      " 'warm_start': False}\n"
     ]
    }
   ],
   "source": [
    "base_rfc = RandomForestClassifier(random_state = 8)\n",
    "\n",
    "print('Parameters currently in use:\\n')\n",
    "pprint(base_rfc.get_params())"
   ]
  },
  {
   "cell_type": "markdown",
   "metadata": {},
   "source": [
    "#### Hyperparameter Tuning for Cross Validation"
   ]
  },
  {
   "cell_type": "markdown",
   "metadata": {},
   "source": [
    "The following hyperparameters will be tuned:\n",
    "\n",
    "- <b><i>n_estimators</i></b> = number of trees in the forest.\n",
    "- <b><i>max_features</i></b> = max number of features considered for splitting a node\n",
    "- <b><i>max_depth</i></b> = max number of levels in each decision tree\n",
    "- <b><i>min_samples_split</i></b> = min number of data points placed in a node before the node is split\n",
    "- <b><i>min_samples_leaf</i></b> = min number of data points allowed in a leaf node\n",
    "- <b><i>bootstrap</i></b> = method for sampling data points (with or without replacement)"
   ]
  },
  {
   "cell_type": "markdown",
   "metadata": {},
   "source": [
    "#### Randomized Search Cross Validation"
   ]
  },
  {
   "cell_type": "code",
   "execution_count": 36,
   "metadata": {},
   "outputs": [
    {
     "name": "stdout",
     "output_type": "stream",
     "text": [
      "{'bootstrap': [True, False],\n",
      " 'max_depth': [20, 40, 60, 80, 100, None],\n",
      " 'max_features': ['auto', 'sqrt'],\n",
      " 'min_samples_leaf': [1, 2, 4],\n",
      " 'min_samples_split': [2, 5, 10],\n",
      " 'n_estimators': [200, 400, 600]}\n"
     ]
    }
   ],
   "source": [
    "# n_estimators\n",
    "n_estimators = [int(x) for x in np.linspace(start = 200, stop = 600, num = 3)]\n",
    "\n",
    "# max_features\n",
    "max_features = ['auto', 'sqrt']\n",
    "\n",
    "# max_depth\n",
    "max_depth = [int(x) for x in np.linspace(20, 100, num = 5)]\n",
    "max_depth.append(None)\n",
    "\n",
    "# min_samples_split\n",
    "min_samples_split = [2, 5, 10]\n",
    "\n",
    "# min_samples_leaf\n",
    "min_samples_leaf = [1, 2, 4]\n",
    "\n",
    "# bootstrap\n",
    "bootstrap = [True, False]\n",
    "\n",
    "# Create the random grid\n",
    "random_grid = {'n_estimators': n_estimators,\n",
    "               'max_features': max_features,\n",
    "               'max_depth': max_depth,\n",
    "               'min_samples_split': min_samples_split,\n",
    "               'min_samples_leaf': min_samples_leaf,\n",
    "               'bootstrap': bootstrap}\n",
    "\n",
    "pprint(random_grid)"
   ]
  },
  {
   "cell_type": "code",
   "execution_count": 37,
   "metadata": {},
   "outputs": [
    {
     "name": "stdout",
     "output_type": "stream",
     "text": [
      "Fitting 3 folds for each of 50 candidates, totalling 150 fits\n"
     ]
    },
    {
     "data": {
      "text/plain": [
       "RandomizedSearchCV(cv=3, estimator=RandomForestClassifier(random_state=8),\n",
       "                   n_iter=50, n_jobs=-1,\n",
       "                   param_distributions={'bootstrap': [True, False],\n",
       "                                        'max_depth': [20, 40, 60, 80, 100,\n",
       "                                                      None],\n",
       "                                        'max_features': ['auto', 'sqrt'],\n",
       "                                        'min_samples_leaf': [1, 2, 4],\n",
       "                                        'min_samples_split': [2, 5, 10],\n",
       "                                        'n_estimators': [200, 400, 600]},\n",
       "                   random_state=8, scoring='accuracy', verbose=1)"
      ]
     },
     "execution_count": 37,
     "metadata": {},
     "output_type": "execute_result"
    }
   ],
   "source": [
    "# Definition of the random search\n",
    "random_search_RFC = RandomizedSearchCV(estimator=base_rfc,\n",
    "                                   param_distributions=random_grid,\n",
    "                                   n_iter=50,\n",
    "                                   scoring='accuracy',\n",
    "                                   cv=3, \n",
    "                                   verbose=1, \n",
    "                                   random_state=8,\n",
    "                                       n_jobs=-1)\n",
    "\n",
    "# Fit the random search model\n",
    "random_search_RFC.fit(X_train, y_train)"
   ]
  },
  {
   "cell_type": "code",
   "execution_count": 38,
   "metadata": {},
   "outputs": [
    {
     "name": "stdout",
     "output_type": "stream",
     "text": [
      "The best hyperparameters from Random Search are:\n",
      "{'n_estimators': 400, 'min_samples_split': 10, 'min_samples_leaf': 1, 'max_features': 'sqrt', 'max_depth': 100, 'bootstrap': True}\n",
      "\n",
      "The mean accuracy of a model with these hyperparameters is:\n",
      "0.9542869476069713\n"
     ]
    }
   ],
   "source": [
    "print(\"The best hyperparameters from Random Search are:\")\n",
    "print(random_search_RFC.best_params_)\n",
    "print(\"\")\n",
    "print(\"The mean accuracy of a model with these hyperparameters is:\")\n",
    "print(random_search_RFC.best_score_)"
   ]
  },
  {
   "cell_type": "markdown",
   "metadata": {},
   "source": [
    "#### Grid Search Cross Validation"
   ]
  },
  {
   "cell_type": "code",
   "execution_count": 39,
   "metadata": {},
   "outputs": [
    {
     "name": "stdout",
     "output_type": "stream",
     "text": [
      "Fitting 3 folds for each of 27 candidates, totalling 81 fits\n"
     ]
    },
    {
     "data": {
      "text/plain": [
       "GridSearchCV(cv=ShuffleSplit(n_splits=3, random_state=8, test_size=0.33, train_size=None),\n",
       "             estimator=RandomForestClassifier(random_state=8), n_jobs=-1,\n",
       "             param_grid={'bootstrap': [False], 'max_depth': [60, 70, 80],\n",
       "                         'max_features': ['sqrt'],\n",
       "                         'min_samples_leaf': [1, 2, 4],\n",
       "                         'min_samples_split': [2, 5, 10],\n",
       "                         'n_estimators': [200]},\n",
       "             scoring='accuracy', verbose=1)"
      ]
     },
     "execution_count": 39,
     "metadata": {},
     "output_type": "execute_result"
    }
   ],
   "source": [
    "# Create the parameter grid based on the results of random search \n",
    "bootstrap = [False]\n",
    "max_depth = [60, 70, 80]\n",
    "max_features = ['sqrt']\n",
    "min_samples_leaf = [1, 2, 4]\n",
    "min_samples_split = [2, 5, 10]\n",
    "n_estimators = [200]\n",
    "\n",
    "param_grid = {\n",
    "    'bootstrap': bootstrap,\n",
    "    'max_depth': max_depth,\n",
    "    'max_features': max_features,\n",
    "    'min_samples_leaf': min_samples_leaf,\n",
    "    'min_samples_split': min_samples_split,\n",
    "    'n_estimators': n_estimators\n",
    "}\n",
    "\n",
    "\n",
    "# Manually create the splits in CV in order to be able to fix a random_state (GridSearchCV doesn't have that argument)\n",
    "cv_sets = ShuffleSplit(n_splits = 3, test_size = .33, random_state = 8)\n",
    "\n",
    "# Instantiate the grid search model\n",
    "grid_search_RFC = GridSearchCV(estimator=base_rfc, \n",
    "                           param_grid=param_grid,\n",
    "                           scoring='accuracy',\n",
    "                           cv=cv_sets,\n",
    "                           verbose=1,\n",
    "                           n_jobs=-1)\n",
    "\n",
    "# Fit the grid search to the data\n",
    "grid_search_RFC.fit(X_train, y_train)"
   ]
  },
  {
   "cell_type": "code",
   "execution_count": 40,
   "metadata": {},
   "outputs": [
    {
     "name": "stdout",
     "output_type": "stream",
     "text": [
      "The best hyperparameters from Grid Search are:\n",
      "{'bootstrap': False, 'max_depth': 60, 'max_features': 'sqrt', 'min_samples_leaf': 1, 'min_samples_split': 5, 'n_estimators': 200}\n",
      "\n",
      "The mean accuracy of a model with these hyperparameters is:\n",
      "0.9594067135050741\n"
     ]
    }
   ],
   "source": [
    "print(\"The best hyperparameters from Grid Search are:\")\n",
    "print(grid_search_RFC.best_params_)\n",
    "print(\"\")\n",
    "print(\"The mean accuracy of a model with these hyperparameters is:\")\n",
    "print(grid_search_RFC.best_score_)"
   ]
  },
  {
   "cell_type": "code",
   "execution_count": 41,
   "metadata": {},
   "outputs": [],
   "source": [
    "best_rfc = grid_search_RFC.best_estimator_\n",
    "best_rfc.fit(X_train,y_train)\n",
    "\n",
    "#Predict on test data\n",
    "rfc_pred = best_rfc.predict(X_test)"
   ]
  },
  {
   "cell_type": "markdown",
   "metadata": {},
   "source": [
    "#### Random Forest Classifier model - Test data evaluation"
   ]
  },
  {
   "cell_type": "code",
   "execution_count": 42,
   "metadata": {},
   "outputs": [
    {
     "name": "stdout",
     "output_type": "stream",
     "text": [
      "The test accuracy is: \n",
      "0.991320468526165\n",
      "\n",
      "\n",
      "Classification report\n",
      "              precision    recall  f1-score   support\n",
      "\n",
      "   Non-fraud       1.00      0.99      1.00     71079\n",
      "       Fraud       0.16      0.91      0.27       123\n",
      "\n",
      "    accuracy                           0.99     71202\n",
      "   macro avg       0.58      0.95      0.63     71202\n",
      "weighted avg       1.00      0.99      0.99     71202\n",
      "\n",
      "\n",
      "\n",
      "<sklearn.metrics._plot.confusion_matrix.ConfusionMatrixDisplay object at 0x7fbe4908e100>\n"
     ]
    },
    {
     "data": {
      "image/png": "[encoded data removed]",
      "text/plain": [
       "<Figure size 432x288 with 2 Axes>"
      ]
     },
     "metadata": {
      "needs_background": "light"
     },
     "output_type": "display_data"
    }
   ],
   "source": [
    "# Test accuracy\n",
    "print(\"The test accuracy is: \")\n",
    "print(accuracy_score(y_test, rfc_pred))\n",
    "print(\"\\n\")\n",
    "\n",
    "# Classification report\n",
    "print(\"Classification report\")\n",
    "print(classification_report(y_test,rfc_pred, target_names=['Non-fraud', 'Fraud']))\n",
    "print(\"\\n\")\n",
    "\n",
    "#Confusion matrix\n",
    "print(plot_confusion_matrix(best_rfc, X_test, y_test, values_format = '',cmap=plt.cm.Greens, display_labels=['Non-fraud','Fraud']))"
   ]
  },
  {
   "cell_type": "code",
   "execution_count": 43,
   "metadata": {},
   "outputs": [
    {
     "name": "stdout",
     "output_type": "stream",
     "text": [
      "AUC Random Forest Classifier : 0.9830674491694057\n"
     ]
    },
    {
     "data": {
      "image/png": "[encoded data removed]",
      "text/plain": [
       "<Figure size 432x288 with 1 Axes>"
      ]
     },
     "metadata": {
      "needs_background": "light"
     },
     "output_type": "display_data"
    }
   ],
   "source": [
    "# Plot ROC AUC curve\n",
    "#AUC\n",
    "rfc_pred_proba = best_rfc.predict_proba(X_test)[::,1]\n",
    "rfc_fpr, rfc_tpr, _ = metrics.roc_curve(y_test,  rfc_pred_proba)\n",
    "rfc_auc = metrics.roc_auc_score(y_test, rfc_pred_proba)\n",
    "print(\"AUC Random Forest Classifier :\", rfc_auc)\n",
    "\n",
    "#ROC\n",
    "plt.plot(rfc_fpr,rfc_tpr,label=\"Random Forest Classifier, auc={:.3f})\".format(rfc_auc))\n",
    "plt.plot([0, 1], [0, 1], 'k--')\n",
    "plt.xlabel('False positive rate')\n",
    "plt.ylabel('True positive rate')\n",
    "plt.title('Random Forest Classifier ROC curve')\n",
    "plt.legend(loc=4)\n",
    "plt.show()"
   ]
  },
  {
   "cell_type": "markdown",
   "metadata": {},
   "source": [
    "## Gradient Boosting Classifier"
   ]
  },
  {
   "cell_type": "code",
   "execution_count": 44,
   "metadata": {},
   "outputs": [
    {
     "name": "stdout",
     "output_type": "stream",
     "text": [
      "Parameters currently in use:\n",
      "\n",
      "{'ccp_alpha': 0.0,\n",
      " 'criterion': 'friedman_mse',\n",
      " 'init': None,\n",
      " 'learning_rate': 0.1,\n",
      " 'loss': 'deviance',\n",
      " 'max_depth': 3,\n",
      " 'max_features': None,\n",
      " 'max_leaf_nodes': None,\n",
      " 'min_impurity_decrease': 0.0,\n",
      " 'min_samples_leaf': 1,\n",
      " 'min_samples_split': 2,\n",
      " 'min_weight_fraction_leaf': 0.0,\n",
      " 'n_estimators': 100,\n",
      " 'n_iter_no_change': None,\n",
      " 'random_state': 8,\n",
      " 'subsample': 1.0,\n",
      " 'tol': 0.0001,\n",
      " 'validation_fraction': 0.1,\n",
      " 'verbose': 0,\n",
      " 'warm_start': False}\n"
     ]
    }
   ],
   "source": [
    "base_gbc = GradientBoostingClassifier(random_state = 8)\n",
    "\n",
    "print('Parameters currently in use:\\n')\n",
    "pprint(base_gbc.get_params())"
   ]
  },
  {
   "cell_type": "markdown",
   "metadata": {},
   "source": [
    "#### Hyperparameter Tuning for Cross Validation"
   ]
  },
  {
   "cell_type": "markdown",
   "metadata": {},
   "source": [
    "\n",
    "The following hyperparameters will be tuned:\n",
    "\n",
    "Tree-related hyperparameters:\n",
    "\n",
    "- <b><i>n_estimators</i></b> = number of trees in the forest.\n",
    "- <b><i>max_features</i></b> = max number of features considered for splitting a node\n",
    "- <b><i>max_depth</i></b> = max number of levels in each decision tree\n",
    "- <b><i>min_samples_split</i></b> = min number of data points placed in a node before the node is split\n",
    "- <b><i>min_samples_leaf</i></b> = min number of data points allowed in a leaf node\n",
    "\n",
    "Boosting-related hyperparameters:\n",
    "\n",
    "- <b><i>learning_rate</i></b> = learning rate shrinks the contribution of each tree by learning_rate.\n",
    "- <b><i>subsample</i></b> = the fraction of samples to be used for fitting the individual base learners."
   ]
  },
  {
   "cell_type": "markdown",
   "metadata": {},
   "source": [
    "#### Randomized Search Cross Validation"
   ]
  },
  {
   "cell_type": "code",
   "execution_count": 45,
   "metadata": {},
   "outputs": [
    {
     "name": "stdout",
     "output_type": "stream",
     "text": [
      "{'learning_rate': [0.1, 0.5],\n",
      " 'max_depth': [10, 40, None],\n",
      " 'max_features': ['auto', 'sqrt'],\n",
      " 'min_samples_leaf': [1, 2, 4],\n",
      " 'min_samples_split': [10, 30, 50],\n",
      " 'n_estimators': [200, 400, 600],\n",
      " 'subsample': [0.5, 1.0]}\n"
     ]
    }
   ],
   "source": [
    "# n_estimators\n",
    "n_estimators = [200, 400, 600]\n",
    "\n",
    "# max_features\n",
    "max_features = ['auto', 'sqrt']\n",
    "\n",
    "# max_depth\n",
    "max_depth = [10, 40]\n",
    "max_depth.append(None)\n",
    "\n",
    "# min_samples_split\n",
    "min_samples_split = [10, 30, 50]\n",
    "\n",
    "# min_samples_leaf\n",
    "min_samples_leaf = [1, 2, 4]\n",
    "\n",
    "# learning rate\n",
    "learning_rate = [.1, .5]\n",
    "\n",
    "# subsample\n",
    "subsample = [.5, 1.]\n",
    "\n",
    "# Create the random grid\n",
    "random_grid = {'n_estimators': n_estimators,\n",
    "               'max_features': max_features,\n",
    "               'max_depth': max_depth,\n",
    "               'min_samples_split': min_samples_split,\n",
    "               'min_samples_leaf': min_samples_leaf,\n",
    "               'learning_rate': learning_rate,\n",
    "               'subsample': subsample}\n",
    "\n",
    "pprint(random_grid)"
   ]
  },
  {
   "cell_type": "code",
   "execution_count": 46,
   "metadata": {},
   "outputs": [
    {
     "name": "stdout",
     "output_type": "stream",
     "text": [
      "Fitting 3 folds for each of 50 candidates, totalling 150 fits\n"
     ]
    },
    {
     "data": {
      "text/plain": [
       "RandomizedSearchCV(cv=3, estimator=GradientBoostingClassifier(random_state=8),\n",
       "                   n_iter=50, n_jobs=-1,\n",
       "                   param_distributions={'learning_rate': [0.1, 0.5],\n",
       "                                        'max_depth': [10, 40, None],\n",
       "                                        'max_features': ['auto', 'sqrt'],\n",
       "                                        'min_samples_leaf': [1, 2, 4],\n",
       "                                        'min_samples_split': [10, 30, 50],\n",
       "                                        'n_estimators': [200, 400, 600],\n",
       "                                        'subsample': [0.5, 1.0]},\n",
       "                   random_state=8, scoring='accuracy', verbose=1)"
      ]
     },
     "execution_count": 46,
     "metadata": {},
     "output_type": "execute_result"
    }
   ],
   "source": [
    "# Definition of the random search\n",
    "random_search_GBC = RandomizedSearchCV(estimator=base_gbc,\n",
    "                                   param_distributions=random_grid,\n",
    "                                   n_iter=50,\n",
    "                                   scoring='accuracy',\n",
    "                                   cv=3, \n",
    "                                   verbose=1, \n",
    "                                   random_state=8,\n",
    "                                   n_jobs=-1)\n",
    "\n",
    "# Fit the random search model\n",
    "random_search_GBC.fit(X_train, y_train)"
   ]
  },
  {
   "cell_type": "code",
   "execution_count": 47,
   "metadata": {},
   "outputs": [
    {
     "name": "stdout",
     "output_type": "stream",
     "text": [
      "The best hyperparameters from Random Search are:\n",
      "{'subsample': 1.0, 'n_estimators': 600, 'min_samples_split': 10, 'min_samples_leaf': 2, 'max_features': 'auto', 'max_depth': 40, 'learning_rate': 0.1}\n",
      "\n",
      "The mean accuracy of a model with these hyperparameters is:\n",
      "0.9535153509955214\n"
     ]
    }
   ],
   "source": [
    "print(\"The best hyperparameters from Random Search are:\")\n",
    "print(random_search_GBC.best_params_)\n",
    "print(\"\")\n",
    "print(\"The mean accuracy of a model with these hyperparameters is:\")\n",
    "print(random_search_GBC.best_score_)"
   ]
  },
  {
   "cell_type": "markdown",
   "metadata": {},
   "source": [
    "#### Grid Search Cross Validation"
   ]
  },
  {
   "cell_type": "code",
   "execution_count": 48,
   "metadata": {},
   "outputs": [
    {
     "name": "stdout",
     "output_type": "stream",
     "text": [
      "Fitting 3 folds for each of 12 candidates, totalling 36 fits\n"
     ]
    },
    {
     "data": {
      "text/plain": [
       "GridSearchCV(cv=ShuffleSplit(n_splits=3, random_state=8, test_size=0.33, train_size=None),\n",
       "             estimator=GradientBoostingClassifier(random_state=8), n_jobs=-1,\n",
       "             param_grid={'learning_rate': [0.1, 0.5], 'max_depth': [10, 15],\n",
       "                         'max_features': ['auto'], 'min_samples_leaf': [4],\n",
       "                         'min_samples_split': [10, 20, 50],\n",
       "                         'n_estimators': [600], 'subsample': [1.0]},\n",
       "             scoring='accuracy', verbose=1)"
      ]
     },
     "execution_count": 48,
     "metadata": {},
     "output_type": "execute_result"
    }
   ],
   "source": [
    "# Create the parameter grid based on the results of random search \n",
    "max_depth = [ 10, 15]\n",
    "max_features = ['auto']\n",
    "min_samples_leaf = [4]\n",
    "min_samples_split = [10, 20, 50]\n",
    "n_estimators = [600]\n",
    "learning_rate = [.1, .5]\n",
    "subsample = [1.]\n",
    "\n",
    "param_grid = {\n",
    "    'max_depth': max_depth,\n",
    "    'max_features': max_features,\n",
    "    'min_samples_leaf': min_samples_leaf,\n",
    "    'min_samples_split': min_samples_split,\n",
    "    'n_estimators': n_estimators,\n",
    "    'learning_rate': learning_rate,\n",
    "    'subsample': subsample\n",
    "\n",
    "}\n",
    "\n",
    "\n",
    "# Manually create the splits in CV in order to be able to fix a random_state (GridSearchCV doesn't have that argument)\n",
    "cv_sets = ShuffleSplit(n_splits = 3, test_size = .33, random_state = 8)\n",
    "\n",
    "# Instantiate the grid search model\n",
    "grid_search_GBC = GridSearchCV(estimator=base_gbc, \n",
    "                           param_grid=param_grid,\n",
    "                           scoring='accuracy',\n",
    "                           cv=cv_sets,\n",
    "                           verbose=1,\n",
    "                           n_jobs=-1)\n",
    "\n",
    "# Fit the grid search to the data\n",
    "grid_search_GBC.fit(X_train, y_train)"
   ]
  },
  {
   "cell_type": "code",
   "execution_count": 49,
   "metadata": {},
   "outputs": [
    {
     "name": "stdout",
     "output_type": "stream",
     "text": [
      "The best hyperparameters from Grid Search are:\n",
      "{'learning_rate': 0.5, 'max_depth': 10, 'max_features': 'auto', 'min_samples_leaf': 4, 'min_samples_split': 10, 'n_estimators': 600, 'subsample': 1.0}\n",
      "\n",
      "The mean accuracy of a model with these hyperparameters is:\n",
      "0.9562841530054644\n"
     ]
    }
   ],
   "source": [
    "print(\"The best hyperparameters from Grid Search are:\")\n",
    "print(grid_search_GBC.best_params_)\n",
    "print(\"\")\n",
    "print(\"The mean accuracy of a model with these hyperparameters is:\")\n",
    "print(grid_search_GBC.best_score_)"
   ]
  },
  {
   "cell_type": "code",
   "execution_count": 50,
   "metadata": {},
   "outputs": [],
   "source": [
    "best_gbc = grid_search_GBC.best_estimator_\n",
    "best_gbc.fit(X_train,y_train)\n",
    "\n",
    "#Predict on test data\n",
    "gbc_pred = best_rfc.predict(X_test)"
   ]
  },
  {
   "cell_type": "markdown",
   "metadata": {},
   "source": [
    "#### Gradient Boosting Classifier model - Test data evaluation"
   ]
  },
  {
   "cell_type": "code",
   "execution_count": 51,
   "metadata": {},
   "outputs": [
    {
     "name": "stdout",
     "output_type": "stream",
     "text": [
      "The test accuracy is: \n",
      "0.991320468526165\n",
      "\n",
      "\n",
      "Classification report\n",
      "              precision    recall  f1-score   support\n",
      "\n",
      "   Non-fraud       1.00      0.99      1.00     71079\n",
      "       Fraud       0.16      0.91      0.27       123\n",
      "\n",
      "    accuracy                           0.99     71202\n",
      "   macro avg       0.58      0.95      0.63     71202\n",
      "weighted avg       1.00      0.99      0.99     71202\n",
      "\n",
      "\n",
      "\n",
      "<sklearn.metrics._plot.confusion_matrix.ConfusionMatrixDisplay object at 0x7fbe292e9250>\n"
     ]
    },
    {
     "data": {
      "image/png": "[encoded data removed]",
      "text/plain": [
       "<Figure size 432x288 with 2 Axes>"
      ]
     },
     "metadata": {
      "needs_background": "light"
     },
     "output_type": "display_data"
    }
   ],
   "source": [
    "# Test accuracy\n",
    "print(\"The test accuracy is: \")\n",
    "print(accuracy_score(y_test, gbc_pred))\n",
    "print(\"\\n\")\n",
    "\n",
    "# Classification report\n",
    "print(\"Classification report\")\n",
    "print(classification_report(y_test,gbc_pred, target_names=['Non-fraud', 'Fraud']))\n",
    "print(\"\\n\")\n",
    "\n",
    "#Confusion matrix\n",
    "print(plot_confusion_matrix(best_gbc, X_test, y_test, values_format = '',cmap=plt.cm.Greens, display_labels=['Non-fraud','Fraud']))"
   ]
  },
  {
   "cell_type": "code",
   "execution_count": 52,
   "metadata": {},
   "outputs": [
    {
     "name": "stdout",
     "output_type": "stream",
     "text": [
      "AUC Gradient Boosting Classifier : 0.9840562150187407\n"
     ]
    },
    {
     "data": {
      "image/png": "[encoded data removed]",
      "text/plain": [
       "<Figure size 432x288 with 1 Axes>"
      ]
     },
     "metadata": {
      "needs_background": "light"
     },
     "output_type": "display_data"
    }
   ],
   "source": [
    "# Plot ROC AUC curve\n",
    "#AUC\n",
    "gbc_pred_proba = best_gbc.predict_proba(X_test)[::,1]\n",
    "gbc_fpr, gbc_tpr, _ = metrics.roc_curve(y_test,  gbc_pred_proba)\n",
    "gbc_auc = metrics.roc_auc_score(y_test, gbc_pred_proba)\n",
    "print(\"AUC Gradient Boosting Classifier :\", gbc_auc)\n",
    "\n",
    "#ROC\n",
    "plt.plot(gbc_fpr,gbc_tpr,label=\"Gradient Boosting Classifier, auc={:.3f})\".format(gbc_auc))\n",
    "plt.plot([0, 1], [0, 1], 'k--')\n",
    "plt.xlabel('False positive rate')\n",
    "plt.ylabel('True positive rate')\n",
    "plt.title('Gradient Boosting Classifier ROC curve')\n",
    "plt.legend(loc=4)\n",
    "plt.show()"
   ]
  },
  {
   "cell_type": "markdown",
   "metadata": {},
   "source": [
    "- All the four models are extremely good in classifying a Fraud from Non-Fraud transaction.<br>\n",
    "- The AUC Scores obtained are all above 0.96 which indicates that the predicting power of these models are very good with <b> Gradient Bosoting Classifier having the highest accuracy of 0.994 and AUC score of 0.983 on the test set</b>."
   ]
  },
  {
   "cell_type": "markdown",
   "metadata": {},
   "source": [
    "## Ensembling using Voting Classifier"
   ]
  },
  {
   "cell_type": "markdown",
   "metadata": {},
   "source": [
    "<b>A Voting Classifier is a machine learning model that trains on an ensemble of numerous models and predicts an output (class) based on their highest probability of chosen class as the output.</b><br>\n",
    "\n",
    "It simply aggregates the findings of each classifier passed into Voting Classifier and predicts the output class based on the highest majority of voting. The idea is instead of creating separate dedicated models and finding the accuracy for each them, we create a single model which trains by these models and predicts output based on their combined majority of voting for each output class.\n",
    "\n",
    "Voting Classifier supports two types of votings.\n",
    "\n",
    "- <b>Hard Voting</b>: In hard voting, the predicted output class is a class with the highest majority of votes i.e the class which had the highest probability of being predicted by each of the classifiers. Suppose three classifiers predicted the output class(A, A, B), so here the majority predicted A as output. Hence A will be the final prediction.<br>\n",
    "- <b>Soft Voting</b>: In soft voting, the output class is the prediction based on the average of probability given to that class. Suppose given some input to three models, the prediction probability for class A = (0.30, 0.47, 0.53) and B = (0.20, 0.32, 0.40). So the average for class A is 0.4333 and B is 0.3067, the winner is clearly class A because it had the highest probability averaged by each classifier."
   ]
  },
  {
   "cell_type": "markdown",
   "metadata": {},
   "source": [
    "<b><i>Note: We will use Soft Voting since we need the predicted probabilities to get the AUC scores.</i></b>"
   ]
  },
  {
   "cell_type": "code",
   "execution_count": 53,
   "metadata": {},
   "outputs": [],
   "source": [
    "from sklearn.ensemble import VotingClassifier"
   ]
  },
  {
   "cell_type": "markdown",
   "metadata": {},
   "source": [
    "## Model 1 - RFC, SVC and GBC"
   ]
  },
  {
   "cell_type": "code",
   "execution_count": 54,
   "metadata": {},
   "outputs": [
    {
     "data": {
      "text/plain": [
       "VotingClassifier(estimators=[('RFC',\n",
       "                              RandomForestClassifier(bootstrap=False,\n",
       "                                                     max_depth=60,\n",
       "                                                     max_features='sqrt',\n",
       "                                                     min_samples_split=5,\n",
       "                                                     n_estimators=200,\n",
       "                                                     random_state=8)),\n",
       "                             ('SVC',\n",
       "                              SVC(C=0.01, kernel='linear', probability=True,\n",
       "                                  random_state=8)),\n",
       "                             ('GBC',\n",
       "                              GradientBoostingClassifier(learning_rate=0.5,\n",
       "                                                         max_depth=10,\n",
       "                                                         max_features='auto',\n",
       "                                                         min_samples_leaf=4,\n",
       "                                                         min_samples_split=10,\n",
       "                                                         n_estimators=600,\n",
       "                                                         random_state=8))],\n",
       "                 voting='soft')"
      ]
     },
     "execution_count": 54,
     "metadata": {},
     "output_type": "execute_result"
    }
   ],
   "source": [
    "\"\"\"Model 1 - Using RFC,GBC and SVC\"\"\"\n",
    "models= []\n",
    "models.append(('RFC',best_rfc))\n",
    "models.append(('SVC',best_svc))\n",
    "models.append(('GBC',best_gbc))\n",
    "\n",
    "vot_classifier_1 = VotingClassifier(estimators=models,voting='soft')\n",
    "vot_classifier_1.fit(X_train,y_train)"
   ]
  },
  {
   "cell_type": "code",
   "execution_count": 55,
   "metadata": {},
   "outputs": [
    {
     "name": "stdout",
     "output_type": "stream",
     "text": [
      "The test accuracy is: \n",
      "0.988975028791326\n",
      "\n",
      "\n",
      "Classification report\n",
      "              precision    recall  f1-score   support\n",
      "\n",
      "   Non-fraud       1.00      0.99      0.99     71079\n",
      "       Fraud       0.13      0.91      0.22       123\n",
      "\n",
      "    accuracy                           0.99     71202\n",
      "   macro avg       0.56      0.95      0.61     71202\n",
      "weighted avg       1.00      0.99      0.99     71202\n",
      "\n",
      "\n",
      "\n",
      "<sklearn.metrics._plot.confusion_matrix.ConfusionMatrixDisplay object at 0x7fbe0956aa00>\n"
     ]
    },
    {
     "data": {
      "image/png": "[encoded data removed]",
      "text/plain": [
       "<Figure size 432x288 with 2 Axes>"
      ]
     },
     "metadata": {
      "needs_background": "light"
     },
     "output_type": "display_data"
    }
   ],
   "source": [
    "vot_classifier_1_pred = vot_classifier_1.predict(X_test)\n",
    "\n",
    "# Test accuracy\n",
    "print(\"The test accuracy is: \")\n",
    "print(accuracy_score(y_test, vot_classifier_1_pred))\n",
    "print(\"\\n\")\n",
    "\n",
    "# Classification report\n",
    "print(\"Classification report\")\n",
    "print(classification_report(y_test,vot_classifier_1_pred, target_names=['Non-fraud', 'Fraud']))\n",
    "print(\"\\n\")\n",
    "\n",
    "#Confusion matrix\n",
    "print(plot_confusion_matrix(vot_classifier_1, X_test, y_test, values_format = '',cmap=plt.cm.Greens, display_labels=['Non-fraud','Fraud']))"
   ]
  },
  {
   "cell_type": "code",
   "execution_count": 56,
   "metadata": {},
   "outputs": [
    {
     "name": "stdout",
     "output_type": "stream",
     "text": [
      "AUC Voting Classifier 1 : 0.9829660504852209\n"
     ]
    },
    {
     "data": {
      "image/png": "[encoded data removed]",
      "text/plain": [
       "<Figure size 432x288 with 1 Axes>"
      ]
     },
     "metadata": {
      "needs_background": "light"
     },
     "output_type": "display_data"
    }
   ],
   "source": [
    "# Plot ROC AUC curve\n",
    "#AUC\n",
    "vot_classifier_1_pred_proba = vot_classifier_1.predict_proba(X_test)[::,1]\n",
    "vot_classifier_1_fpr, vot_classifier_1_tpr, _ = metrics.roc_curve(y_test,  vot_classifier_1_pred_proba)\n",
    "vot_classifier_1_auc = metrics.roc_auc_score(y_test, vot_classifier_1_pred_proba)\n",
    "print(\"AUC Voting Classifier 1 :\", vot_classifier_1_auc)\n",
    "\n",
    "#ROC\n",
    "plt.plot(gbc_fpr,gbc_tpr,label=\" Voting Classifier 1, auc={:.3f})\".format(vot_classifier_1_auc))\n",
    "plt.plot([0, 1], [0, 1], 'k--')\n",
    "plt.xlabel('False positive rate')\n",
    "plt.ylabel('True positive rate')\n",
    "plt.title(' Voting Classifier 1 ROC curve')\n",
    "plt.legend(loc=4)\n",
    "plt.show()"
   ]
  },
  {
   "cell_type": "markdown",
   "metadata": {},
   "source": [
    "## Model 2 - Using, RFC, SVC, LRC"
   ]
  },
  {
   "cell_type": "code",
   "execution_count": 57,
   "metadata": {},
   "outputs": [
    {
     "data": {
      "text/plain": [
       "VotingClassifier(estimators=[('RFC',\n",
       "                              RandomForestClassifier(bootstrap=False,\n",
       "                                                     max_depth=60,\n",
       "                                                     max_features='sqrt',\n",
       "                                                     min_samples_split=5,\n",
       "                                                     n_estimators=200,\n",
       "                                                     random_state=8)),\n",
       "                             ('SVC',\n",
       "                              SVC(C=0.01, kernel='linear', probability=True,\n",
       "                                  random_state=8)),\n",
       "                             ('LRC',\n",
       "                              LogisticRegression(C=0.7, penalty='l1',\n",
       "                                                 random_state=8,\n",
       "                                                 solver='liblinear'))],\n",
       "                 voting='soft')"
      ]
     },
     "execution_count": 57,
     "metadata": {},
     "output_type": "execute_result"
    }
   ],
   "source": [
    "\"\"\"Model 2 - Using RFC,SVC and LRC\"\"\"\n",
    "models= []\n",
    "models.append(('RFC',best_rfc))\n",
    "models.append(('SVC',best_svc))\n",
    "models.append(('LRC',best_lrc))\n",
    "\n",
    "vot_classifier_2 = VotingClassifier(estimators=models,voting='soft')\n",
    "vot_classifier_2.fit(X_train,y_train)"
   ]
  },
  {
   "cell_type": "code",
   "execution_count": 58,
   "metadata": {},
   "outputs": [
    {
     "name": "stdout",
     "output_type": "stream",
     "text": [
      "The test accuracy is: \n",
      "0.9907305974551277\n",
      "\n",
      "\n",
      "Classification report\n",
      "              precision    recall  f1-score   support\n",
      "\n",
      "   Non-fraud       1.00      0.99      1.00     71079\n",
      "       Fraud       0.15      0.91      0.25       123\n",
      "\n",
      "    accuracy                           0.99     71202\n",
      "   macro avg       0.57      0.95      0.62     71202\n",
      "weighted avg       1.00      0.99      0.99     71202\n",
      "\n",
      "\n",
      "\n",
      "<sklearn.metrics._plot.confusion_matrix.ConfusionMatrixDisplay object at 0x7fbe39c35670>\n"
     ]
    },
    {
     "data": {
      "image/png": "[encoded data removed]",
      "text/plain": [
       "<Figure size 432x288 with 2 Axes>"
      ]
     },
     "metadata": {
      "needs_background": "light"
     },
     "output_type": "display_data"
    }
   ],
   "source": [
    "vot_classifier_2_pred = vot_classifier_2.predict(X_test)\n",
    "\n",
    "# Test accuracy\n",
    "print(\"The test accuracy is: \")\n",
    "print(accuracy_score(y_test, vot_classifier_2_pred))\n",
    "print(\"\\n\")\n",
    "\n",
    "# Classification report\n",
    "print(\"Classification report\")\n",
    "print(classification_report(y_test,vot_classifier_2_pred, target_names=['Non-fraud', 'Fraud']))\n",
    "print(\"\\n\")\n",
    "\n",
    "#Confusion matrix\n",
    "print(plot_confusion_matrix(vot_classifier_2, X_test, y_test, values_format = '',cmap=plt.cm.Greens, display_labels=['Non-fraud','Fraud']))"
   ]
  },
  {
   "cell_type": "code",
   "execution_count": 59,
   "metadata": {},
   "outputs": [
    {
     "name": "stdout",
     "output_type": "stream",
     "text": [
      "AUC Voting Classifier 2 : 0.9816276221682574\n"
     ]
    },
    {
     "data": {
      "image/png": "[encoded data removed]",
      "text/plain": [
       "<Figure size 432x288 with 1 Axes>"
      ]
     },
     "metadata": {
      "needs_background": "light"
     },
     "output_type": "display_data"
    }
   ],
   "source": [
    "# Plot ROC AUC curve\n",
    "#AUC\n",
    "vot_classifier_2_pred_proba = vot_classifier_2.predict_proba(X_test)[::,1]\n",
    "vot_classifier_2_fpr, vot_classifier_2_tpr, _ = metrics.roc_curve(y_test,  vot_classifier_2_pred_proba)\n",
    "vot_classifier_2_auc = metrics.roc_auc_score(y_test, vot_classifier_2_pred_proba)\n",
    "print(\"AUC Voting Classifier 2 :\", vot_classifier_2_auc)\n",
    "\n",
    "#ROC\n",
    "plt.plot(gbc_fpr,gbc_tpr,label=\" Voting Classifier 2, auc={:.3f})\".format(vot_classifier_2_auc))\n",
    "plt.plot([0, 1], [0, 1], 'k--')\n",
    "plt.xlabel('False positive rate')\n",
    "plt.ylabel('True positive rate')\n",
    "plt.title(' Voting Classifier 2 ROC curve')\n",
    "plt.legend(loc=4)\n",
    "plt.show()"
   ]
  },
  {
   "cell_type": "markdown",
   "metadata": {},
   "source": [
    "## Model 3 - Using SVC, LRC and GBC"
   ]
  },
  {
   "cell_type": "code",
   "execution_count": 60,
   "metadata": {},
   "outputs": [
    {
     "data": {
      "text/plain": [
       "VotingClassifier(estimators=[('SVC',\n",
       "                              SVC(C=0.01, kernel='linear', probability=True,\n",
       "                                  random_state=8)),\n",
       "                             ('LRC',\n",
       "                              LogisticRegression(C=0.7, penalty='l1',\n",
       "                                                 random_state=8,\n",
       "                                                 solver='liblinear')),\n",
       "                             ('GBC',\n",
       "                              GradientBoostingClassifier(learning_rate=0.5,\n",
       "                                                         max_depth=10,\n",
       "                                                         max_features='auto',\n",
       "                                                         min_samples_leaf=4,\n",
       "                                                         min_samples_split=10,\n",
       "                                                         n_estimators=600,\n",
       "                                                         random_state=8))],\n",
       "                 voting='soft')"
      ]
     },
     "execution_count": 60,
     "metadata": {},
     "output_type": "execute_result"
    }
   ],
   "source": [
    "\"\"\"Model 3 - Using SVC, LRC and GBC\"\"\"\n",
    "models= []\n",
    "models.append(('SVC',best_svc))\n",
    "models.append(('LRC',best_lrc))\n",
    "models.append(('GBC',best_gbc))\n",
    "\n",
    "vot_classifier_3 = VotingClassifier(estimators=models,voting='soft')\n",
    "vot_classifier_3.fit(X_train,y_train)"
   ]
  },
  {
   "cell_type": "code",
   "execution_count": 61,
   "metadata": {},
   "outputs": [
    {
     "name": "stdout",
     "output_type": "stream",
     "text": [
      "The test accuracy is: \n",
      "0.9897334344540883\n",
      "\n",
      "\n",
      "Classification report\n",
      "              precision    recall  f1-score   support\n",
      "\n",
      "   Non-fraud       1.00      0.99      0.99     71079\n",
      "       Fraud       0.13      0.91      0.23       123\n",
      "\n",
      "    accuracy                           0.99     71202\n",
      "   macro avg       0.57      0.95      0.61     71202\n",
      "weighted avg       1.00      0.99      0.99     71202\n",
      "\n",
      "\n",
      "\n",
      "<sklearn.metrics._plot.confusion_matrix.ConfusionMatrixDisplay object at 0x7fbe099764f0>\n"
     ]
    },
    {
     "data": {
      "image/png": "[encoded data removed]",
      "text/plain": [
       "<Figure size 432x288 with 2 Axes>"
      ]
     },
     "metadata": {
      "needs_background": "light"
     },
     "output_type": "display_data"
    }
   ],
   "source": [
    "vot_classifier_3_pred = vot_classifier_3.predict(X_test)\n",
    "\n",
    "# Test accuracy\n",
    "print(\"The test accuracy is: \")\n",
    "print(accuracy_score(y_test, vot_classifier_3_pred))\n",
    "print(\"\\n\")\n",
    "\n",
    "# Classification report\n",
    "print(\"Classification report\")\n",
    "print(classification_report(y_test,vot_classifier_3_pred, target_names=['Non-fraud', 'Fraud']))\n",
    "print(\"\\n\")\n",
    "\n",
    "#Confusion matrix\n",
    "print(plot_confusion_matrix(vot_classifier_3, X_test, y_test, values_format = '',cmap=plt.cm.Greens, display_labels=['Non-fraud','Fraud']))"
   ]
  },
  {
   "cell_type": "code",
   "execution_count": 62,
   "metadata": {},
   "outputs": [
    {
     "name": "stdout",
     "output_type": "stream",
     "text": [
      "AUC Voting Classifier 3 : 0.9782345694136045\n"
     ]
    },
    {
     "data": {
      "image/png": "[encoded data removed]",
      "text/plain": [
       "<Figure size 432x288 with 1 Axes>"
      ]
     },
     "metadata": {
      "needs_background": "light"
     },
     "output_type": "display_data"
    }
   ],
   "source": [
    "# Plot ROC AUC curve\n",
    "#AUC\n",
    "vot_classifier_3_pred_proba = vot_classifier_3.predict_proba(X_test)[::,1]\n",
    "vot_classifier_3_fpr, vot_classifier_3_tpr, _ = metrics.roc_curve(y_test,  vot_classifier_3_pred_proba)\n",
    "vot_classifier_3_auc = metrics.roc_auc_score(y_test, vot_classifier_3_pred_proba)\n",
    "print(\"AUC Voting Classifier 3 :\", vot_classifier_3_auc)\n",
    "\n",
    "#ROC\n",
    "plt.plot(gbc_fpr,gbc_tpr,label=\" Voting Classifier 3, auc={:.3f})\".format(vot_classifier_3_auc))\n",
    "plt.plot([0, 1], [0, 1], 'k--')\n",
    "plt.xlabel('False positive rate')\n",
    "plt.ylabel('True positive rate')\n",
    "plt.title(' Voting Classifier 3 ROC curve')\n",
    "plt.legend(loc=4)\n",
    "plt.show()"
   ]
  },
  {
   "cell_type": "markdown",
   "metadata": {},
   "source": [
    "## Model 4 - Using RFC, LRC, GBC"
   ]
  },
  {
   "cell_type": "code",
   "execution_count": 63,
   "metadata": {},
   "outputs": [
    {
     "data": {
      "text/plain": [
       "VotingClassifier(estimators=[('RFC',\n",
       "                              RandomForestClassifier(bootstrap=False,\n",
       "                                                     max_depth=60,\n",
       "                                                     max_features='sqrt',\n",
       "                                                     min_samples_split=5,\n",
       "                                                     n_estimators=200,\n",
       "                                                     random_state=8)),\n",
       "                             ('LRC',\n",
       "                              LogisticRegression(C=0.7, penalty='l1',\n",
       "                                                 random_state=8,\n",
       "                                                 solver='liblinear')),\n",
       "                             ('GBC',\n",
       "                              GradientBoostingClassifier(learning_rate=0.5,\n",
       "                                                         max_depth=10,\n",
       "                                                         max_features='auto',\n",
       "                                                         min_samples_leaf=4,\n",
       "                                                         min_samples_split=10,\n",
       "                                                         n_estimators=600,\n",
       "                                                         random_state=8))],\n",
       "                 voting='soft')"
      ]
     },
     "execution_count": 63,
     "metadata": {},
     "output_type": "execute_result"
    }
   ],
   "source": [
    "\"\"\"Model 4 - Using RFC, LRC, GBC\"\"\"\n",
    "models= []\n",
    "models.append(('RFC',best_rfc))\n",
    "models.append(('LRC',best_lrc))\n",
    "models.append(('GBC',best_gbc))\n",
    "\n",
    "vot_classifier_4 = VotingClassifier(estimators=models,voting='soft')\n",
    "vot_classifier_4.fit(X_train,y_train)"
   ]
  },
  {
   "cell_type": "code",
   "execution_count": 64,
   "metadata": {},
   "outputs": [
    {
     "name": "stdout",
     "output_type": "stream",
     "text": [
      "The test accuracy is: \n",
      "0.9882728013258054\n",
      "\n",
      "\n",
      "Classification report\n",
      "              precision    recall  f1-score   support\n",
      "\n",
      "   Non-fraud       1.00      0.99      0.99     71079\n",
      "       Fraud       0.12      0.91      0.21       123\n",
      "\n",
      "    accuracy                           0.99     71202\n",
      "   macro avg       0.56      0.95      0.60     71202\n",
      "weighted avg       1.00      0.99      0.99     71202\n",
      "\n",
      "\n",
      "\n",
      "<sklearn.metrics._plot.confusion_matrix.ConfusionMatrixDisplay object at 0x7fbe099dbe50>\n"
     ]
    },
    {
     "data": {
      "image/png": "[encoded data removed]",
      "text/plain": [
       "<Figure size 432x288 with 2 Axes>"
      ]
     },
     "metadata": {
      "needs_background": "light"
     },
     "output_type": "display_data"
    }
   ],
   "source": [
    "vot_classifier_4_pred = vot_classifier_4.predict(X_test)\n",
    "\n",
    "# Test accuracy\n",
    "print(\"The test accuracy is: \")\n",
    "print(accuracy_score(y_test, vot_classifier_4_pred))\n",
    "print(\"\\n\")\n",
    "\n",
    "# Classification report\n",
    "print(\"Classification report\")\n",
    "print(classification_report(y_test,vot_classifier_4_pred, target_names=['Non-fraud', 'Fraud']))\n",
    "print(\"\\n\")\n",
    "\n",
    "#Confusion matrix\n",
    "print(plot_confusion_matrix(vot_classifier_4, X_test, y_test, values_format = '',cmap=plt.cm.Greens, display_labels=['Non-fraud','Fraud']))"
   ]
  },
  {
   "cell_type": "code",
   "execution_count": 65,
   "metadata": {},
   "outputs": [
    {
     "name": "stdout",
     "output_type": "stream",
     "text": [
      "AUC Voting Classifier 4 : 0.9818280747277991\n"
     ]
    },
    {
     "data": {
      "image/png": "[encoded data removed]",
      "text/plain": [
       "<Figure size 432x288 with 1 Axes>"
      ]
     },
     "metadata": {
      "needs_background": "light"
     },
     "output_type": "display_data"
    }
   ],
   "source": [
    "# Plot ROC AUC curve\n",
    "#AUC\n",
    "vot_classifier_4_pred_proba = vot_classifier_4.predict_proba(X_test)[::,1]\n",
    "vot_classifier_4_fpr, vot_classifier_4_tpr, _ = metrics.roc_curve(y_test,  vot_classifier_4_pred_proba)\n",
    "vot_classifier_4_auc = metrics.roc_auc_score(y_test, vot_classifier_4_pred_proba)\n",
    "print(\"AUC Voting Classifier 4 :\", vot_classifier_4_auc)\n",
    "\n",
    "#ROC\n",
    "plt.plot(gbc_fpr,gbc_tpr,label=\" Voting Classifier 4, auc={:.3f})\".format(vot_classifier_4_auc))\n",
    "plt.plot([0, 1], [0, 1], 'k--')\n",
    "plt.xlabel('False positive rate')\n",
    "plt.ylabel('True positive rate')\n",
    "plt.title(' Voting Classifier 4 ROC curve')\n",
    "plt.legend(loc=4)\n",
    "plt.show()"
   ]
  },
  {
   "cell_type": "markdown",
   "metadata": {},
   "source": [
    "## Save all the models as pickle files"
   ]
  },
  {
   "cell_type": "code",
   "execution_count": 66,
   "metadata": {},
   "outputs": [],
   "source": [
    "import pickle\n",
    "\n",
    "#LRC\n",
    "with open('/Users/aswathchary/Desktop/Northeastern University/NEU Course Work/DAMG6105-Data Science Engineering/Data Science_FinalProj_Aswath_Janani/Picklefiles/best_LRC_fraud_detection.pkl','wb') as model_file:\n",
    "    pickle.dump(best_lrc,model_file)\n",
    "#SVC    \n",
    "with open('/Users/aswathchary/Desktop/Northeastern University/NEU Course Work/DAMG6105-Data Science Engineering/Data Science_FinalProj_Aswath_Janani/Picklefiles/best_SVC_fraud_detection.pkl','wb') as model_file:\n",
    "    pickle.dump(best_svc,model_file)\n",
    "#RFC\n",
    "with open('/Users/aswathchary/Desktop/Northeastern University/NEU Course Work/DAMG6105-Data Science Engineering/Data Science_FinalProj_Aswath_Janani/Picklefiles/best_RFC_fraud_detection.pkl','wb') as model_file:\n",
    "    pickle.dump(best_rfc,model_file)\n",
    "#GBC  \n",
    "with open('/Users/aswathchary/Desktop/Northeastern University/NEU Course Work/DAMG6105-Data Science Engineering/Data Science_FinalProj_Aswath_Janani/Picklefiles/best_GBC_fraud_detection.pkl','wb') as model_file:\n",
    "    pickle.dump(best_gbc,model_file)\n",
    "    \n",
    "with open('/Users/aswathchary/Desktop/Northeastern University/NEU Course Work/DAMG6105-Data Science Engineering/Data Science_FinalProj_Aswath_Janani/Picklefiles/voting_ensemble_1_fraud_detection.pkl','wb') as model_file:\n",
    "    pickle.dump(vot_classifier_1,model_file)\n",
    "    \n",
    "with open('/Users/aswathchary/Desktop/Northeastern University/NEU Course Work/DAMG6105-Data Science Engineering/Data Science_FinalProj_Aswath_Janani/Picklefiles/voting_ensemble_2_fraud_detection.pkl','wb') as model_file:\n",
    "    pickle.dump(vot_classifier_2,model_file)\n",
    "    \n",
    "with open('/Users/aswathchary/Desktop/Northeastern University/NEU Course Work/DAMG6105-Data Science Engineering/Data Science_FinalProj_Aswath_Janani/Picklefiles/voting_ensemble_3_fraud_detection.pkl','wb') as model_file:\n",
    "    pickle.dump(vot_classifier_3,model_file)\n",
    "    \n",
    "with open('/Users/aswathchary/Desktop/Northeastern University/NEU Course Work/DAMG6105-Data Science Engineering/Data Science_FinalProj_Aswath_Janani/Picklefiles/voting_ensemble_4_fraud_detection.pkl','wb') as model_file:\n",
    "    pickle.dump(vot_classifier_4,model_file)"
   ]
  },
  {
   "cell_type": "markdown",
   "metadata": {},
   "source": [
    "## Final Model Selection <br>\n",
    "\n",
    "For selecting the final model, we can compare the model performance metrics for the various models. We can also look at the <b>Recall score </b> of our models to see how good the models are in classifying fraudulent and non-fraduelent transcations."
   ]
  },
  {
   "cell_type": "code",
   "execution_count": 67,
   "metadata": {},
   "outputs": [],
   "source": [
    "from sklearn.metrics import recall_score"
   ]
  },
  {
   "cell_type": "code",
   "execution_count": 68,
   "metadata": {},
   "outputs": [
    {
     "name": "stdout",
     "output_type": "stream",
     "text": [
      "                       Model  Training Set Accuracy  Test Set Accuracy  \\\n",
      "0  Logistic Regression (LRC)                0.96437            0.98673   \n",
      "\n",
      "   AUC Score  Recall score  \n",
      "0    0.97023       0.91870  \n"
     ]
    }
   ],
   "source": [
    "# let us create a dataset with a model summary to compare models:\n",
    "d = {\n",
    "     'Model': 'Logistic Regression (LRC)',\n",
    "     'Training Set Accuracy': accuracy_score(y_train, best_lrc.predict(X_train)),\n",
    "     'Test Set Accuracy': accuracy_score(y_test, lrc_pred),\n",
    "     'AUC Score' : LRC_auc,\n",
    "     'Recall score': recall_score(y_test, lrc_pred)\n",
    "    \n",
    "}\n",
    "\n",
    "df_models_lrc = pd.DataFrame(d, index=[0])\n",
    "print(df_models_lrc)"
   ]
  },
  {
   "cell_type": "code",
   "execution_count": 69,
   "metadata": {},
   "outputs": [],
   "source": [
    "#SVC\n",
    "d = {\n",
    "     'Model': 'Support Vector Classifier (SVC)',\n",
    "     'Training Set Accuracy': accuracy_score(y_train, best_svc.predict(X_train)),\n",
    "     'Test Set Accuracy': accuracy_score(y_test, svc_pred),\n",
    "     'AUC Score' : svc_auc,\n",
    "     'Recall score': recall_score(y_test, svc_pred)\n",
    "    \n",
    "}\n",
    "\n",
    "df_models_svc = pd.DataFrame(d, index=[0])\n",
    "\n",
    "#RFC\n",
    "d = {\n",
    "     'Model': 'Random Forest Classifier (RFC)',\n",
    "     'Training Set Accuracy': accuracy_score(y_train, best_rfc.predict(X_train)),\n",
    "     'Test Set Accuracy': accuracy_score(y_test, rfc_pred),\n",
    "     'AUC Score' : rfc_auc,\n",
    "     'Recall score': recall_score(y_test, rfc_pred)\n",
    "    \n",
    "}\n",
    "\n",
    "df_models_rfc = pd.DataFrame(d, index=[0])\n",
    "\n",
    "#GBC\n",
    "d = {\n",
    "     'Model': 'Gradient Boosting Classifier (GBC)',\n",
    "     'Training Set Accuracy': accuracy_score(y_train, best_gbc.predict(X_train)),\n",
    "     'Test Set Accuracy': accuracy_score(y_test, gbc_pred),\n",
    "     'AUC Score' : gbc_auc,\n",
    "     'Recall score': recall_score(y_test, gbc_pred)\n",
    "    \n",
    "}\n",
    "\n",
    "df_models_gbc = pd.DataFrame(d, index=[0])\n",
    "\n",
    "#Voting Classifier 1\n",
    "d = {\n",
    "     'Model': 'Voting Classifier 1 (RFC, GBC & SVC)',\n",
    "     'Training Set Accuracy': accuracy_score(y_train, vot_classifier_1.predict(X_train)),\n",
    "     'Test Set Accuracy': accuracy_score(y_test, vot_classifier_1_pred),\n",
    "     'AUC Score' : vot_classifier_1_auc,\n",
    "     'Recall score': recall_score(y_test, vot_classifier_1_pred)\n",
    "    \n",
    "}\n",
    "\n",
    "df_models_vot_1 = pd.DataFrame(d, index=[0])\n",
    "\n",
    "#Voting Classifier 2\n",
    "d = {\n",
    "     'Model': 'Voting Classifier 2 (RFC, SVC & LRC)',\n",
    "     'Training Set Accuracy': accuracy_score(y_train, vot_classifier_2.predict(X_train)),\n",
    "     'Test Set Accuracy': accuracy_score(y_test, vot_classifier_2_pred),\n",
    "     'AUC Score' : vot_classifier_2_auc,\n",
    "     'Recall score': recall_score(y_test, vot_classifier_2_pred)\n",
    "    \n",
    "}\n",
    "\n",
    "df_models_vot_2 = pd.DataFrame(d, index=[0])\n",
    "\n",
    "#Voting Classifier 3\n",
    "d = {\n",
    "     'Model': 'Voting Classifier 3 (SVC, LRC & GBC)',\n",
    "     'Training Set Accuracy': accuracy_score(y_train, vot_classifier_3.predict(X_train)),\n",
    "     'Test Set Accuracy': accuracy_score(y_test, vot_classifier_3_pred),\n",
    "     'AUC Score' : vot_classifier_3_auc,\n",
    "     'Recall score': recall_score(y_test, vot_classifier_3_pred)\n",
    "    \n",
    "}\n",
    "\n",
    "df_models_vot_3 = pd.DataFrame(d, index=[0])\n",
    "\n",
    "#Voting Classifier 4\n",
    "d = {\n",
    "     'Model': 'Voting Classifier 4 (RFC, LRC & GBC)',\n",
    "     'Training Set Accuracy': accuracy_score(y_train, vot_classifier_4.predict(X_train)),\n",
    "     'Test Set Accuracy': accuracy_score(y_test, vot_classifier_4_pred),\n",
    "     'AUC Score' : vot_classifier_4_auc,\n",
    "     'Recall score': recall_score(y_test, vot_classifier_4_pred)\n",
    "    \n",
    "}\n",
    "\n",
    "df_models_vot_4 = pd.DataFrame(d, index=[0])"
   ]
  },
  {
   "cell_type": "code",
   "execution_count": 70,
   "metadata": {},
   "outputs": [],
   "source": [
    "# Combine all the results together\n",
    "final_results_df = pd.concat([df_models_lrc, df_models_svc, df_models_rfc, df_models_gbc, df_models_vot_1, df_models_vot_2,df_models_vot_3,df_models_vot_4])\n",
    "final_results_df = final_results_df.reset_index().drop('index', axis=1)"
   ]
  },
  {
   "cell_type": "code",
   "execution_count": 71,
   "metadata": {},
   "outputs": [
    {
     "data": {
      "text/html": [
       "<div>\n",
       "<style scoped>\n",
       "    .dataframe tbody tr th:only-of-type {\n",
       "        vertical-align: middle;\n",
       "    }\n",
       "\n",
       "    .dataframe tbody tr th {\n",
       "        vertical-align: top;\n",
       "    }\n",
       "\n",
       "    .dataframe thead th {\n",
       "        text-align: right;\n",
       "    }\n",
       "</style>\n",
       "<table border=\"1\" class=\"dataframe\">\n",
       "  <thead>\n",
       "    <tr style=\"text-align: right;\">\n",
       "      <th></th>\n",
       "      <th>Model</th>\n",
       "      <th>Training Set Accuracy</th>\n",
       "      <th>Test Set Accuracy</th>\n",
       "      <th>AUC Score</th>\n",
       "      <th>Recall score</th>\n",
       "    </tr>\n",
       "  </thead>\n",
       "  <tbody>\n",
       "    <tr>\n",
       "      <th>3</th>\n",
       "      <td>Gradient Boosting Classifier (GBC)</td>\n",
       "      <td>1.00000</td>\n",
       "      <td>0.99132</td>\n",
       "      <td>0.98406</td>\n",
       "      <td>0.91057</td>\n",
       "    </tr>\n",
       "    <tr>\n",
       "      <th>2</th>\n",
       "      <td>Random Forest Classifier (RFC)</td>\n",
       "      <td>1.00000</td>\n",
       "      <td>0.99132</td>\n",
       "      <td>0.98307</td>\n",
       "      <td>0.91057</td>\n",
       "    </tr>\n",
       "    <tr>\n",
       "      <th>4</th>\n",
       "      <td>Voting Classifier 1 (RFC, GBC &amp; SVC)</td>\n",
       "      <td>1.00000</td>\n",
       "      <td>0.98898</td>\n",
       "      <td>0.98297</td>\n",
       "      <td>0.91057</td>\n",
       "    </tr>\n",
       "    <tr>\n",
       "      <th>7</th>\n",
       "      <td>Voting Classifier 4 (RFC, LRC &amp; GBC)</td>\n",
       "      <td>1.00000</td>\n",
       "      <td>0.98827</td>\n",
       "      <td>0.98183</td>\n",
       "      <td>0.91057</td>\n",
       "    </tr>\n",
       "    <tr>\n",
       "      <th>5</th>\n",
       "      <td>Voting Classifier 2 (RFC, SVC &amp; LRC)</td>\n",
       "      <td>0.97134</td>\n",
       "      <td>0.99073</td>\n",
       "      <td>0.98163</td>\n",
       "      <td>0.91057</td>\n",
       "    </tr>\n",
       "    <tr>\n",
       "      <th>6</th>\n",
       "      <td>Voting Classifier 3 (SVC, LRC &amp; GBC)</td>\n",
       "      <td>0.97134</td>\n",
       "      <td>0.98973</td>\n",
       "      <td>0.97823</td>\n",
       "      <td>0.91057</td>\n",
       "    </tr>\n",
       "    <tr>\n",
       "      <th>1</th>\n",
       "      <td>Support Vector Classifier (SVC)</td>\n",
       "      <td>0.95740</td>\n",
       "      <td>0.99330</td>\n",
       "      <td>0.97604</td>\n",
       "      <td>0.91057</td>\n",
       "    </tr>\n",
       "    <tr>\n",
       "      <th>0</th>\n",
       "      <td>Logistic Regression (LRC)</td>\n",
       "      <td>0.96437</td>\n",
       "      <td>0.98673</td>\n",
       "      <td>0.97023</td>\n",
       "      <td>0.91870</td>\n",
       "    </tr>\n",
       "  </tbody>\n",
       "</table>\n",
       "</div>"
      ],
      "text/plain": [
       "                                  Model  Training Set Accuracy  \\\n",
       "3    Gradient Boosting Classifier (GBC)                1.00000   \n",
       "2        Random Forest Classifier (RFC)                1.00000   \n",
       "4  Voting Classifier 1 (RFC, GBC & SVC)                1.00000   \n",
       "7  Voting Classifier 4 (RFC, LRC & GBC)                1.00000   \n",
       "5  Voting Classifier 2 (RFC, SVC & LRC)                0.97134   \n",
       "6  Voting Classifier 3 (SVC, LRC & GBC)                0.97134   \n",
       "1       Support Vector Classifier (SVC)                0.95740   \n",
       "0             Logistic Regression (LRC)                0.96437   \n",
       "\n",
       "   Test Set Accuracy  AUC Score  Recall score  \n",
       "3            0.99132    0.98406       0.91057  \n",
       "2            0.99132    0.98307       0.91057  \n",
       "4            0.98898    0.98297       0.91057  \n",
       "7            0.98827    0.98183       0.91057  \n",
       "5            0.99073    0.98163       0.91057  \n",
       "6            0.98973    0.97823       0.91057  \n",
       "1            0.99330    0.97604       0.91057  \n",
       "0            0.98673    0.97023       0.91870  "
      ]
     },
     "execution_count": 71,
     "metadata": {},
     "output_type": "execute_result"
    }
   ],
   "source": [
    "#sort by AUC and recall score to get the best model\n",
    "final_results_df.sort_values(['AUC Score', 'Recall score'], ascending=[False, False])"
   ]
  },
  {
   "cell_type": "markdown",
   "metadata": {},
   "source": [
    "# <center>THE BEST MODEL IS GRADIENT BOOSTING CLASSIFIER"
   ]
  },
  {
   "cell_type": "markdown",
   "metadata": {},
   "source": [
    "To sum up,\n",
    "- All the models have produced good results in both training and testing with very minute differences in performance. \n",
    "- Given that the dataset is imbalanced, getting a good accuracy is not the goal. However, <b> the high AUC scores and Recall scores </b> indicate that the models are quite robust in classifiying fraudulent transactions and non-fraudelent transcations.\n",
    "- Also, during the model training phase, <b>by using Randomized Search and Grid Search Cross Validation for Hyperparameter Tuning, the training accuracy of the models improved considerably in comparison with the base estimators (without hyperparameter tuning). </b>"
   ]
  },
  {
   "cell_type": "code",
   "execution_count": 1,
   "metadata": {},
   "outputs": [],
   "source": []
  },
  {
   "cell_type": "code",
   "execution_count": null,
   "metadata": {},
   "outputs": [],
   "source": []
  }
 ],
 "metadata": {
  "kernelspec": {
   "display_name": "Python 3 (ipykernel)",
   "language": "python",
   "name": "python3"
  },
  "language_info": {
   "codemirror_mode": {
    "name": "ipython",
    "version": 3
   },
   "file_extension": ".py",
   "mimetype": "text/x-python",
   "name": "python",
   "nbconvert_exporter": "python",
   "pygments_lexer": "ipython3",
   "version": "3.9.6"
  },
  "vscode": {
   "interpreter": {
    "hash": "aee8b7b246df8f9039afb4144a1f6fd8d2ca17a180786b69acc140d282b71a49"
   }
  }
 },
 "nbformat": 4,
 "nbformat_minor": 4
}
